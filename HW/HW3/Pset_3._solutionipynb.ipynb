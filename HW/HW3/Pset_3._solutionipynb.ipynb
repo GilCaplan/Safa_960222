{
  "nbformat": 4,
  "nbformat_minor": 0,
  "metadata": {
    "colab": {
      "provenance": []
    },
    "kernelspec": {
      "name": "python3",
      "display_name": "Python 3"
    }
  },
  "cells": [
    {
      "cell_type": "markdown",
      "metadata": {
        "id": "pBT0ubqX2Orw"
      },
      "source": [
        "This executable notebook will help you complete Pset 3.\n",
        "\n",
        "A reminder about a few Colab-specific things to note about execution before we get started:\n",
        "\n",
        "- Google offers free compute (including GPU compute!) on this notebook, but *only for a limited time*. Your session will be automatically closed after 12 hours. That means you'll want to finish within 12 hours of starting, or make sure to save your intermediate work (see the next bullet).\n",
        "- You can save and write files from this notebook, but they are *not guaranteed to persist*. For this reason, we'll mount a Google Drive account and write to that Drive when any files need to be kept permanently.\n",
        "- You should keep this tab open until you're completely finished with the notebook. If you close the tab, your session will be marked as \"Idle\" and may be terminated.\n",
        "\n",
        "# Getting started\n",
        "\n",
        "**First**, make a copy of this notebook so you can make your own changes. Click *File -> Save a copy in Drive*.\n",
        "\n",
        "### What you need to do\n",
        "\n",
        "Read through this notebook and execute each cell in sequence, making modifications and adding code where necessary. You should execute all of the code as instructed, and make sure to write code or textual responses wherever the text **TODO** shows up in text and code cells.\n",
        "\n",
        "When you're finished, choose *File -> Download .ipynb*. You will upload this `.ipynb` file as part of your submission.\n"
      ]
    },
    {
      "cell_type": "markdown",
      "metadata": {
        "id": "Lrl2QH1YV6Sy"
      },
      "source": [
        "## 1) Logistic Regression\n",
        "\n",
        "### Background: logistic regression for binomial ordering preferences\n",
        "\n",
        "We'll walk you through the example of logistic regression that we covered during class, where we took a dataset of binomial expressions and inferred the relative strengths of the short-before-long and frequent-before-infrequent ordering preferences.  We first load the dataset, which consists of a number of binomial expressions each of which was observed once in a sample of the Brown corpus, in the order given in the dataset.  In this dataset, `Syl` and `Freq` respectively denote whether the observed ordering matches the preference (an entry of `1`), violates the preference (an entry of `-1`), or is irrelevant for the preference (an entry of `0`, indicating that either ordering would satisfy the preference).  `Percept` indicates matching or violation of the perceptual markedness preference, and `Response` is a dummy variable whose value is always `1`, which we will use in fitting the logistic regression model."
      ]
    },
    {
      "cell_type": "code",
      "metadata": {
        "id": "66NqjyvYV9kW",
        "colab": {
          "base_uri": "https://localhost:8080/",
          "height": 424
        },
        "outputId": "61a1fb78-aec2-4b6e-b041-d443f46b9233"
      },
      "source": [
        "import statsmodels.api as sm\n",
        "import pandas as pd\n",
        "import numpy as np\n",
        "d = pd.read_csv(\"https://gist.githubusercontent.com/omershubi/b577698c3f497f43df453d28c9c580fd/raw/6480ca2da71a42f75b490baa5387773f3aeb72e1/single_count_binomials.txt\",header=0,sep=\" \")\n",
        "d"
      ],
      "execution_count": null,
      "outputs": [
        {
          "output_type": "execute_result",
          "data": {
            "text/plain": [
              "                     Binomial  Percept  Syl  Freq  Response\n",
              "1        abused and neglected        0    1     1         1\n",
              "2             accept and hire        0    0     1         1\n",
              "3     achieved and maintained        0    0     1         1\n",
              "4    actively and continually        0    1    -1         1\n",
              "5            adding and using        0    0    -1         1\n",
              "..                        ...      ...  ...   ...       ...\n",
              "326           wide and varied        0    1     1         1\n",
              "327              wiry and fit        0   -1    -1         1\n",
              "328     WordPerfect and Lotus        0   -1    -1         1\n",
              "329      worried and troubled        0    0     1         1\n",
              "330       young and energetic        0    1     1         1\n",
              "\n",
              "[330 rows x 5 columns]"
            ],
            "text/html": [
              "\n",
              "  <div id=\"df-11cb3ddd-0b26-4d9d-a805-c570c743067d\" class=\"colab-df-container\">\n",
              "    <div>\n",
              "<style scoped>\n",
              "    .dataframe tbody tr th:only-of-type {\n",
              "        vertical-align: middle;\n",
              "    }\n",
              "\n",
              "    .dataframe tbody tr th {\n",
              "        vertical-align: top;\n",
              "    }\n",
              "\n",
              "    .dataframe thead th {\n",
              "        text-align: right;\n",
              "    }\n",
              "</style>\n",
              "<table border=\"1\" class=\"dataframe\">\n",
              "  <thead>\n",
              "    <tr style=\"text-align: right;\">\n",
              "      <th></th>\n",
              "      <th>Binomial</th>\n",
              "      <th>Percept</th>\n",
              "      <th>Syl</th>\n",
              "      <th>Freq</th>\n",
              "      <th>Response</th>\n",
              "    </tr>\n",
              "  </thead>\n",
              "  <tbody>\n",
              "    <tr>\n",
              "      <th>1</th>\n",
              "      <td>abused and neglected</td>\n",
              "      <td>0</td>\n",
              "      <td>1</td>\n",
              "      <td>1</td>\n",
              "      <td>1</td>\n",
              "    </tr>\n",
              "    <tr>\n",
              "      <th>2</th>\n",
              "      <td>accept and hire</td>\n",
              "      <td>0</td>\n",
              "      <td>0</td>\n",
              "      <td>1</td>\n",
              "      <td>1</td>\n",
              "    </tr>\n",
              "    <tr>\n",
              "      <th>3</th>\n",
              "      <td>achieved and maintained</td>\n",
              "      <td>0</td>\n",
              "      <td>0</td>\n",
              "      <td>1</td>\n",
              "      <td>1</td>\n",
              "    </tr>\n",
              "    <tr>\n",
              "      <th>4</th>\n",
              "      <td>actively and continually</td>\n",
              "      <td>0</td>\n",
              "      <td>1</td>\n",
              "      <td>-1</td>\n",
              "      <td>1</td>\n",
              "    </tr>\n",
              "    <tr>\n",
              "      <th>5</th>\n",
              "      <td>adding and using</td>\n",
              "      <td>0</td>\n",
              "      <td>0</td>\n",
              "      <td>-1</td>\n",
              "      <td>1</td>\n",
              "    </tr>\n",
              "    <tr>\n",
              "      <th>...</th>\n",
              "      <td>...</td>\n",
              "      <td>...</td>\n",
              "      <td>...</td>\n",
              "      <td>...</td>\n",
              "      <td>...</td>\n",
              "    </tr>\n",
              "    <tr>\n",
              "      <th>326</th>\n",
              "      <td>wide and varied</td>\n",
              "      <td>0</td>\n",
              "      <td>1</td>\n",
              "      <td>1</td>\n",
              "      <td>1</td>\n",
              "    </tr>\n",
              "    <tr>\n",
              "      <th>327</th>\n",
              "      <td>wiry and fit</td>\n",
              "      <td>0</td>\n",
              "      <td>-1</td>\n",
              "      <td>-1</td>\n",
              "      <td>1</td>\n",
              "    </tr>\n",
              "    <tr>\n",
              "      <th>328</th>\n",
              "      <td>WordPerfect and Lotus</td>\n",
              "      <td>0</td>\n",
              "      <td>-1</td>\n",
              "      <td>-1</td>\n",
              "      <td>1</td>\n",
              "    </tr>\n",
              "    <tr>\n",
              "      <th>329</th>\n",
              "      <td>worried and troubled</td>\n",
              "      <td>0</td>\n",
              "      <td>0</td>\n",
              "      <td>1</td>\n",
              "      <td>1</td>\n",
              "    </tr>\n",
              "    <tr>\n",
              "      <th>330</th>\n",
              "      <td>young and energetic</td>\n",
              "      <td>0</td>\n",
              "      <td>1</td>\n",
              "      <td>1</td>\n",
              "      <td>1</td>\n",
              "    </tr>\n",
              "  </tbody>\n",
              "</table>\n",
              "<p>330 rows × 5 columns</p>\n",
              "</div>\n",
              "    <div class=\"colab-df-buttons\">\n",
              "\n",
              "  <div class=\"colab-df-container\">\n",
              "    <button class=\"colab-df-convert\" onclick=\"convertToInteractive('df-11cb3ddd-0b26-4d9d-a805-c570c743067d')\"\n",
              "            title=\"Convert this dataframe to an interactive table.\"\n",
              "            style=\"display:none;\">\n",
              "\n",
              "  <svg xmlns=\"http://www.w3.org/2000/svg\" height=\"24px\" viewBox=\"0 -960 960 960\">\n",
              "    <path d=\"M120-120v-720h720v720H120Zm60-500h600v-160H180v160Zm220 220h160v-160H400v160Zm0 220h160v-160H400v160ZM180-400h160v-160H180v160Zm440 0h160v-160H620v160ZM180-180h160v-160H180v160Zm440 0h160v-160H620v160Z\"/>\n",
              "  </svg>\n",
              "    </button>\n",
              "\n",
              "  <style>\n",
              "    .colab-df-container {\n",
              "      display:flex;\n",
              "      gap: 12px;\n",
              "    }\n",
              "\n",
              "    .colab-df-convert {\n",
              "      background-color: #E8F0FE;\n",
              "      border: none;\n",
              "      border-radius: 50%;\n",
              "      cursor: pointer;\n",
              "      display: none;\n",
              "      fill: #1967D2;\n",
              "      height: 32px;\n",
              "      padding: 0 0 0 0;\n",
              "      width: 32px;\n",
              "    }\n",
              "\n",
              "    .colab-df-convert:hover {\n",
              "      background-color: #E2EBFA;\n",
              "      box-shadow: 0px 1px 2px rgba(60, 64, 67, 0.3), 0px 1px 3px 1px rgba(60, 64, 67, 0.15);\n",
              "      fill: #174EA6;\n",
              "    }\n",
              "\n",
              "    .colab-df-buttons div {\n",
              "      margin-bottom: 4px;\n",
              "    }\n",
              "\n",
              "    [theme=dark] .colab-df-convert {\n",
              "      background-color: #3B4455;\n",
              "      fill: #D2E3FC;\n",
              "    }\n",
              "\n",
              "    [theme=dark] .colab-df-convert:hover {\n",
              "      background-color: #434B5C;\n",
              "      box-shadow: 0px 1px 3px 1px rgba(0, 0, 0, 0.15);\n",
              "      filter: drop-shadow(0px 1px 2px rgba(0, 0, 0, 0.3));\n",
              "      fill: #FFFFFF;\n",
              "    }\n",
              "  </style>\n",
              "\n",
              "    <script>\n",
              "      const buttonEl =\n",
              "        document.querySelector('#df-11cb3ddd-0b26-4d9d-a805-c570c743067d button.colab-df-convert');\n",
              "      buttonEl.style.display =\n",
              "        google.colab.kernel.accessAllowed ? 'block' : 'none';\n",
              "\n",
              "      async function convertToInteractive(key) {\n",
              "        const element = document.querySelector('#df-11cb3ddd-0b26-4d9d-a805-c570c743067d');\n",
              "        const dataTable =\n",
              "          await google.colab.kernel.invokeFunction('convertToInteractive',\n",
              "                                                    [key], {});\n",
              "        if (!dataTable) return;\n",
              "\n",
              "        const docLinkHtml = 'Like what you see? Visit the ' +\n",
              "          '<a target=\"_blank\" href=https://colab.research.google.com/notebooks/data_table.ipynb>data table notebook</a>'\n",
              "          + ' to learn more about interactive tables.';\n",
              "        element.innerHTML = '';\n",
              "        dataTable['output_type'] = 'display_data';\n",
              "        await google.colab.output.renderOutput(dataTable, element);\n",
              "        const docLink = document.createElement('div');\n",
              "        docLink.innerHTML = docLinkHtml;\n",
              "        element.appendChild(docLink);\n",
              "      }\n",
              "    </script>\n",
              "  </div>\n",
              "\n",
              "\n",
              "    <div id=\"df-2cfdad4c-ccf6-4954-b9d9-9b98584ff5ca\">\n",
              "      <button class=\"colab-df-quickchart\" onclick=\"quickchart('df-2cfdad4c-ccf6-4954-b9d9-9b98584ff5ca')\"\n",
              "                title=\"Suggest charts\"\n",
              "                style=\"display:none;\">\n",
              "\n",
              "<svg xmlns=\"http://www.w3.org/2000/svg\" height=\"24px\"viewBox=\"0 0 24 24\"\n",
              "     width=\"24px\">\n",
              "    <g>\n",
              "        <path d=\"M19 3H5c-1.1 0-2 .9-2 2v14c0 1.1.9 2 2 2h14c1.1 0 2-.9 2-2V5c0-1.1-.9-2-2-2zM9 17H7v-7h2v7zm4 0h-2V7h2v10zm4 0h-2v-4h2v4z\"/>\n",
              "    </g>\n",
              "</svg>\n",
              "      </button>\n",
              "\n",
              "<style>\n",
              "  .colab-df-quickchart {\n",
              "      --bg-color: #E8F0FE;\n",
              "      --fill-color: #1967D2;\n",
              "      --hover-bg-color: #E2EBFA;\n",
              "      --hover-fill-color: #174EA6;\n",
              "      --disabled-fill-color: #AAA;\n",
              "      --disabled-bg-color: #DDD;\n",
              "  }\n",
              "\n",
              "  [theme=dark] .colab-df-quickchart {\n",
              "      --bg-color: #3B4455;\n",
              "      --fill-color: #D2E3FC;\n",
              "      --hover-bg-color: #434B5C;\n",
              "      --hover-fill-color: #FFFFFF;\n",
              "      --disabled-bg-color: #3B4455;\n",
              "      --disabled-fill-color: #666;\n",
              "  }\n",
              "\n",
              "  .colab-df-quickchart {\n",
              "    background-color: var(--bg-color);\n",
              "    border: none;\n",
              "    border-radius: 50%;\n",
              "    cursor: pointer;\n",
              "    display: none;\n",
              "    fill: var(--fill-color);\n",
              "    height: 32px;\n",
              "    padding: 0;\n",
              "    width: 32px;\n",
              "  }\n",
              "\n",
              "  .colab-df-quickchart:hover {\n",
              "    background-color: var(--hover-bg-color);\n",
              "    box-shadow: 0 1px 2px rgba(60, 64, 67, 0.3), 0 1px 3px 1px rgba(60, 64, 67, 0.15);\n",
              "    fill: var(--button-hover-fill-color);\n",
              "  }\n",
              "\n",
              "  .colab-df-quickchart-complete:disabled,\n",
              "  .colab-df-quickchart-complete:disabled:hover {\n",
              "    background-color: var(--disabled-bg-color);\n",
              "    fill: var(--disabled-fill-color);\n",
              "    box-shadow: none;\n",
              "  }\n",
              "\n",
              "  .colab-df-spinner {\n",
              "    border: 2px solid var(--fill-color);\n",
              "    border-color: transparent;\n",
              "    border-bottom-color: var(--fill-color);\n",
              "    animation:\n",
              "      spin 1s steps(1) infinite;\n",
              "  }\n",
              "\n",
              "  @keyframes spin {\n",
              "    0% {\n",
              "      border-color: transparent;\n",
              "      border-bottom-color: var(--fill-color);\n",
              "      border-left-color: var(--fill-color);\n",
              "    }\n",
              "    20% {\n",
              "      border-color: transparent;\n",
              "      border-left-color: var(--fill-color);\n",
              "      border-top-color: var(--fill-color);\n",
              "    }\n",
              "    30% {\n",
              "      border-color: transparent;\n",
              "      border-left-color: var(--fill-color);\n",
              "      border-top-color: var(--fill-color);\n",
              "      border-right-color: var(--fill-color);\n",
              "    }\n",
              "    40% {\n",
              "      border-color: transparent;\n",
              "      border-right-color: var(--fill-color);\n",
              "      border-top-color: var(--fill-color);\n",
              "    }\n",
              "    60% {\n",
              "      border-color: transparent;\n",
              "      border-right-color: var(--fill-color);\n",
              "    }\n",
              "    80% {\n",
              "      border-color: transparent;\n",
              "      border-right-color: var(--fill-color);\n",
              "      border-bottom-color: var(--fill-color);\n",
              "    }\n",
              "    90% {\n",
              "      border-color: transparent;\n",
              "      border-bottom-color: var(--fill-color);\n",
              "    }\n",
              "  }\n",
              "</style>\n",
              "\n",
              "      <script>\n",
              "        async function quickchart(key) {\n",
              "          const quickchartButtonEl =\n",
              "            document.querySelector('#' + key + ' button');\n",
              "          quickchartButtonEl.disabled = true;  // To prevent multiple clicks.\n",
              "          quickchartButtonEl.classList.add('colab-df-spinner');\n",
              "          try {\n",
              "            const charts = await google.colab.kernel.invokeFunction(\n",
              "                'suggestCharts', [key], {});\n",
              "          } catch (error) {\n",
              "            console.error('Error during call to suggestCharts:', error);\n",
              "          }\n",
              "          quickchartButtonEl.classList.remove('colab-df-spinner');\n",
              "          quickchartButtonEl.classList.add('colab-df-quickchart-complete');\n",
              "        }\n",
              "        (() => {\n",
              "          let quickchartButtonEl =\n",
              "            document.querySelector('#df-2cfdad4c-ccf6-4954-b9d9-9b98584ff5ca button');\n",
              "          quickchartButtonEl.style.display =\n",
              "            google.colab.kernel.accessAllowed ? 'block' : 'none';\n",
              "        })();\n",
              "      </script>\n",
              "    </div>\n",
              "\n",
              "  <div id=\"id_02923b09-1156-49ea-b512-9f27a9725fae\">\n",
              "    <style>\n",
              "      .colab-df-generate {\n",
              "        background-color: #E8F0FE;\n",
              "        border: none;\n",
              "        border-radius: 50%;\n",
              "        cursor: pointer;\n",
              "        display: none;\n",
              "        fill: #1967D2;\n",
              "        height: 32px;\n",
              "        padding: 0 0 0 0;\n",
              "        width: 32px;\n",
              "      }\n",
              "\n",
              "      .colab-df-generate:hover {\n",
              "        background-color: #E2EBFA;\n",
              "        box-shadow: 0px 1px 2px rgba(60, 64, 67, 0.3), 0px 1px 3px 1px rgba(60, 64, 67, 0.15);\n",
              "        fill: #174EA6;\n",
              "      }\n",
              "\n",
              "      [theme=dark] .colab-df-generate {\n",
              "        background-color: #3B4455;\n",
              "        fill: #D2E3FC;\n",
              "      }\n",
              "\n",
              "      [theme=dark] .colab-df-generate:hover {\n",
              "        background-color: #434B5C;\n",
              "        box-shadow: 0px 1px 3px 1px rgba(0, 0, 0, 0.15);\n",
              "        filter: drop-shadow(0px 1px 2px rgba(0, 0, 0, 0.3));\n",
              "        fill: #FFFFFF;\n",
              "      }\n",
              "    </style>\n",
              "    <button class=\"colab-df-generate\" onclick=\"generateWithVariable('d')\"\n",
              "            title=\"Generate code using this dataframe.\"\n",
              "            style=\"display:none;\">\n",
              "\n",
              "  <svg xmlns=\"http://www.w3.org/2000/svg\" height=\"24px\"viewBox=\"0 0 24 24\"\n",
              "       width=\"24px\">\n",
              "    <path d=\"M7,19H8.4L18.45,9,17,7.55,7,17.6ZM5,21V16.75L18.45,3.32a2,2,0,0,1,2.83,0l1.4,1.43a1.91,1.91,0,0,1,.58,1.4,1.91,1.91,0,0,1-.58,1.4L9.25,21ZM18.45,9,17,7.55Zm-12,3A5.31,5.31,0,0,0,4.9,8.1,5.31,5.31,0,0,0,1,6.5,5.31,5.31,0,0,0,4.9,4.9,5.31,5.31,0,0,0,6.5,1,5.31,5.31,0,0,0,8.1,4.9,5.31,5.31,0,0,0,12,6.5,5.46,5.46,0,0,0,6.5,12Z\"/>\n",
              "  </svg>\n",
              "    </button>\n",
              "    <script>\n",
              "      (() => {\n",
              "      const buttonEl =\n",
              "        document.querySelector('#id_02923b09-1156-49ea-b512-9f27a9725fae button.colab-df-generate');\n",
              "      buttonEl.style.display =\n",
              "        google.colab.kernel.accessAllowed ? 'block' : 'none';\n",
              "\n",
              "      buttonEl.onclick = () => {\n",
              "        google.colab.notebook.generateWithVariable('d');\n",
              "      }\n",
              "      })();\n",
              "    </script>\n",
              "  </div>\n",
              "\n",
              "    </div>\n",
              "  </div>\n"
            ],
            "application/vnd.google.colaboratory.intrinsic+json": {
              "type": "dataframe",
              "variable_name": "d",
              "summary": "{\n  \"name\": \"d\",\n  \"rows\": 330,\n  \"fields\": [\n    {\n      \"column\": \"Binomial\",\n      \"properties\": {\n        \"dtype\": \"string\",\n        \"num_unique_values\": 330,\n        \"samples\": [\n          \"altogether and finally\",\n          \"lurched and stumbled\",\n          \"hope and pray\"\n        ],\n        \"semantic_type\": \"\",\n        \"description\": \"\"\n      }\n    },\n    {\n      \"column\": \"Percept\",\n      \"properties\": {\n        \"dtype\": \"number\",\n        \"std\": 0,\n        \"min\": -1,\n        \"max\": 1,\n        \"num_unique_values\": 3,\n        \"samples\": [\n          0,\n          -1,\n          1\n        ],\n        \"semantic_type\": \"\",\n        \"description\": \"\"\n      }\n    },\n    {\n      \"column\": \"Syl\",\n      \"properties\": {\n        \"dtype\": \"number\",\n        \"std\": 0,\n        \"min\": -1,\n        \"max\": 1,\n        \"num_unique_values\": 3,\n        \"samples\": [\n          1,\n          0,\n          -1\n        ],\n        \"semantic_type\": \"\",\n        \"description\": \"\"\n      }\n    },\n    {\n      \"column\": \"Freq\",\n      \"properties\": {\n        \"dtype\": \"number\",\n        \"std\": 0,\n        \"min\": -1,\n        \"max\": 1,\n        \"num_unique_values\": 3,\n        \"samples\": [\n          1,\n          -1,\n          0\n        ],\n        \"semantic_type\": \"\",\n        \"description\": \"\"\n      }\n    },\n    {\n      \"column\": \"Response\",\n      \"properties\": {\n        \"dtype\": \"number\",\n        \"std\": 0,\n        \"min\": 1,\n        \"max\": 1,\n        \"num_unique_values\": 1,\n        \"samples\": [\n          1\n        ],\n        \"semantic_type\": \"\",\n        \"description\": \"\"\n      }\n    }\n  ]\n}"
            }
          },
          "metadata": {},
          "execution_count": 40
        }
      ]
    },
    {
      "cell_type": "markdown",
      "metadata": {
        "id": "x_CVZaUPce7Z"
      },
      "source": [
        "Recall that logistic regression involves the following equations for predictors $\\{X_i\\}$:\n",
        "\n",
        "$\\eta = \\sum_i \\beta_i X_i$ (the **linear predictor**)\n",
        "\n",
        "$P($outcome$=$success$) =\\frac{e^{\\eta}}{1 + e^{\\eta}}$ (outcomes are Bernoulli distributed around the mean resulting from a logistic transformation of the linear predictor)\n",
        "\n",
        "We have two predictors: $X_1$ is `Syl` and $X_2$ is `Freq`.  We use the `statsmodels` Python package to fit this logistic regression model to our dataset and infer the parameter weights $\\{\\beta_i\\}$, which correspond to the preference strengths.  In `statsmodels`, as in most software packages implementing logistic regression, it is a convention that the numeric coding of the outcome or response is `1` for \"success\" and `0` otherwise.  Also as in most software packages for logistic regression, we use matrix formats to represent the response & predictors: so if there are $M$ predictors and $N$ observations, then the predictor set is represented as an $M \\times N$ matrix and the response variable is represented as a $1 \\times N$ matrix (effectively a length-$N$ vector).  We split our dataset into predictor and response matrices, and then fit a logistic regression model.\n",
        "\n",
        "(In `statsmodels`, as with many statistical software packages, logistic regression is implemented as a special case of the more general framework of generalized linear models (GLMs), which is why the third line of the below cell looks the way it does.  We won't be covering GLMs in this class, but you may encounter them in other statistics classes or, perhaps less likely, in machine-learning classes.)"
      ]
    },
    {
      "cell_type": "code",
      "metadata": {
        "id": "7LEcBP0yXJfi",
        "colab": {
          "base_uri": "https://localhost:8080/"
        },
        "outputId": "67c5adf5-90a1-4bb5-be01-9e3eb4220d8c"
      },
      "source": [
        "x = d[[\"Syl\",\"Freq\"]]\n",
        "y = d[[\"Response\"]]\n",
        "m = sm.GLM(y,x,family=sm.families.Binomial())\n",
        "m_results = m.fit()\n",
        "print(m_results.summary())"
      ],
      "execution_count": null,
      "outputs": [
        {
          "output_type": "stream",
          "name": "stdout",
          "text": [
            "                 Generalized Linear Model Regression Results                  \n",
            "==============================================================================\n",
            "Dep. Variable:               Response   No. Observations:                  330\n",
            "Model:                            GLM   Df Residuals:                      328\n",
            "Model Family:                Binomial   Df Model:                            1\n",
            "Link Function:                  Logit   Scale:                          1.0000\n",
            "Method:                          IRLS   Log-Likelihood:                -213.95\n",
            "Date:                Fri, 09 May 2025   Deviance:                       427.90\n",
            "Time:                        08:21:29   Pearson chi2:                     330.\n",
            "No. Iterations:                     4   Pseudo R-squ. (CS):             -2.657\n",
            "Covariance Type:            nonrobust                                         \n",
            "==============================================================================\n",
            "                 coef    std err          z      P>|z|      [0.025      0.975]\n",
            "------------------------------------------------------------------------------\n",
            "Syl            0.4825      0.154      3.131      0.002       0.180       0.784\n",
            "Freq           0.4019      0.122      3.296      0.001       0.163       0.641\n",
            "==============================================================================\n"
          ]
        }
      ]
    },
    {
      "cell_type": "markdown",
      "metadata": {
        "id": "fCIv0Fqffirs"
      },
      "source": [
        "The `coef` results of `0.48` for `Syl` and `0.40` match those we covered in class."
      ]
    },
    {
      "cell_type": "markdown",
      "metadata": {
        "id": "jTPDE5SPl6Ai"
      },
      "source": [
        "How well are we able to predict the ordering of a binomial we haven't previously seen will occur in?  To estimate this, we'll create a random 80/20 train/test split of our binomials data, estimate our logistic regression weights using the training dataset, and then see how often our prediction is successful ($P(success)>0.5$ for the observed ordering of the test-set binomial).  First we create our train/test split:"
      ]
    },
    {
      "cell_type": "code",
      "metadata": {
        "id": "InHOwCM3iTTT",
        "colab": {
          "base_uri": "https://localhost:8080/"
        },
        "outputId": "cd92efb4-b7ee-425c-ed2d-8d05fb811706"
      },
      "source": [
        "import math, random\n",
        "N = d.shape[0]\n",
        "N_train = math.floor(N*4/5)\n",
        "idx = list(range(N))\n",
        "random.seed(3) # so that results will be reproducible from run to run\n",
        "random.shuffle(idx)\n",
        "idx_train = idx[0:N_train]\n",
        "idx_test = idx[N_train:N]\n",
        "print(idx_train)\n",
        "print(idx_test)\n",
        "d_train = d.iloc[idx_train]\n",
        "d_test = d.iloc[idx_test]\n",
        "print(d_train)"
      ],
      "execution_count": null,
      "outputs": [
        {
          "output_type": "stream",
          "name": "stdout",
          "text": [
            "[272, 78, 13, 285, 211, 48, 188, 291, 292, 191, 244, 46, 233, 311, 139, 308, 70, 250, 287, 222, 192, 264, 54, 252, 163, 269, 180, 17, 238, 147, 38, 22, 220, 280, 41, 99, 239, 299, 288, 89, 135, 95, 146, 231, 42, 131, 312, 207, 224, 302, 138, 249, 289, 3, 274, 229, 142, 62, 12, 263, 171, 51, 124, 329, 165, 31, 120, 88, 226, 29, 304, 201, 36, 149, 58, 205, 122, 170, 127, 65, 102, 190, 0, 25, 230, 87, 206, 52, 169, 91, 97, 209, 182, 101, 59, 123, 193, 37, 268, 16, 254, 44, 144, 126, 293, 134, 105, 115, 130, 214, 200, 23, 73, 114, 107, 103, 40, 266, 159, 4, 166, 100, 28, 277, 283, 72, 113, 55, 325, 20, 43, 112, 57, 175, 82, 186, 24, 245, 261, 270, 61, 290, 56, 128, 232, 322, 265, 318, 204, 327, 177, 221, 275, 185, 47, 93, 260, 300, 228, 151, 76, 116, 219, 64, 94, 168, 178, 181, 294, 125, 237, 155, 173, 90, 314, 85, 160, 328, 321, 258, 161, 241, 262, 212, 5, 216, 148, 251, 2, 217, 140, 195, 257, 326, 284, 256, 234, 295, 184, 162, 110, 286, 235, 158, 26, 271, 174, 152, 164, 313, 133, 117, 213, 324, 35, 92, 80, 86, 255, 279, 39, 67, 156, 74, 104, 50, 8, 296, 153, 27, 19, 1, 79, 9, 60, 129, 71, 236, 225, 141, 84, 150, 183, 96, 248, 194, 157, 319, 11, 30, 315, 106, 196, 109, 75, 10, 305, 210, 34, 176, 45, 247, 246, 301]\n",
            "[63, 145, 136, 108, 53, 167, 83, 143, 14, 172, 306, 208, 273, 179, 197, 259, 215, 298, 223, 316, 111, 253, 69, 18, 49, 187, 68, 227, 202, 218, 198, 323, 137, 15, 154, 21, 81, 32, 7, 199, 267, 307, 118, 77, 203, 243, 281, 276, 317, 98, 119, 282, 132, 240, 6, 310, 33, 297, 320, 242, 309, 189, 66, 278, 303, 121]\n",
            "                       Binomial  Percept  Syl  Freq  Response\n",
            "273           stained and waxed        0    0     1         1\n",
            "79   Czechoslovakia and Hungary        0   -1    -1         1\n",
            "14              anger and spite        0   -1     1         1\n",
            "286    swiftly and aggressively        0    1    -1         1\n",
            "212                pull and tug        0    0     1         1\n",
            "..                          ...      ...  ...   ...       ...\n",
            "177       muddling and chilling        0    0    -1         1\n",
            "46         check and discipline        0    1     1         1\n",
            "248        sewing and quilting         0    0     1         1\n",
            "247       sewing and needlework        0    1     1         1\n",
            "302         totally and morally        0    0     1         1\n",
            "\n",
            "[264 rows x 5 columns]\n"
          ]
        }
      ]
    },
    {
      "cell_type": "markdown",
      "metadata": {
        "id": "GrdvOHTMmltj"
      },
      "source": [
        "And now we train a logistic model on only the training set, predict success probability for the observed binomials in the test set, and see how often we \"succeed\":"
      ]
    },
    {
      "cell_type": "code",
      "metadata": {
        "id": "sGhMQ-ismsCW",
        "colab": {
          "base_uri": "https://localhost:8080/"
        },
        "outputId": "76b7c47c-ce29-4cd8-ce6f-0e3c0bee5425"
      },
      "source": [
        "x_train = d_train[[\"Syl\",\"Freq\"]]\n",
        "y_train = d_train[[\"Response\"]]\n",
        "m = sm.GLM(y_train,x_train,family=sm.families.Binomial())\n",
        "m_results = m.fit()\n",
        "print(m_results.summary())\n",
        "x_test = d_test[[\"Syl\",\"Freq\"]]\n",
        "y_predicted = m_results.predict(x_test)\n",
        "np.mean(y_predicted>0.5)\n"
      ],
      "execution_count": null,
      "outputs": [
        {
          "output_type": "stream",
          "name": "stdout",
          "text": [
            "                 Generalized Linear Model Regression Results                  \n",
            "==============================================================================\n",
            "Dep. Variable:               Response   No. Observations:                  264\n",
            "Model:                            GLM   Df Residuals:                      262\n",
            "Model Family:                Binomial   Df Model:                            1\n",
            "Link Function:                  Logit   Scale:                          1.0000\n",
            "Method:                          IRLS   Log-Likelihood:                -170.38\n",
            "Date:                Fri, 09 May 2025   Deviance:                       340.77\n",
            "Time:                        08:21:29   Pearson chi2:                     264.\n",
            "No. Iterations:                     4   Pseudo R-squ. (CS):             -2.636\n",
            "Covariance Type:            nonrobust                                         \n",
            "==============================================================================\n",
            "                 coef    std err          z      P>|z|      [0.025      0.975]\n",
            "------------------------------------------------------------------------------\n",
            "Syl            0.5005      0.171      2.931      0.003       0.166       0.835\n",
            "Freq           0.4203      0.136      3.102      0.002       0.155       0.686\n",
            "==============================================================================\n"
          ]
        },
        {
          "output_type": "execute_result",
          "data": {
            "text/plain": [
              "np.float64(0.6363636363636364)"
            ]
          },
          "metadata": {},
          "execution_count": 43
        }
      ]
    },
    {
      "cell_type": "markdown",
      "metadata": {
        "id": "CKjlqfrjnp38"
      },
      "source": [
        "The answer: apparently somewhat better than 50/50 chance!\n",
        "\n",
        "Another measure of how well a model fits a dataset is the log-likelihood it assigns to the data.  "
      ]
    },
    {
      "cell_type": "code",
      "source": [
        "sum(np.log(y_predicted)) # large (less negative) values indicate better fit."
      ],
      "metadata": {
        "colab": {
          "base_uri": "https://localhost:8080/"
        },
        "id": "SfOOH-WjphMK",
        "outputId": "b25b93bb-3f8f-4f9a-f7ac-cc10479c580c"
      },
      "execution_count": null,
      "outputs": [
        {
          "output_type": "execute_result",
          "data": {
            "text/plain": [
              "-43.59055060217463"
            ]
          },
          "metadata": {},
          "execution_count": 44
        }
      ]
    },
    {
      "cell_type": "markdown",
      "source": [
        "## Accuracy and Log-likelihood\n",
        "\n",
        "Note, in the binary classification case, accuracy is defined as:\n",
        "$$Acc = \\frac{1}{N} \\sum_i  \\mathbb{1}\\{\\hat{y_i}==y_i\\}$$\n",
        "Where\n",
        "\n",
        "$$\\hat{y_i} = 1 \\ \\textbf{if} \\ \\hat{p(x_i)}>0.5 \\  \\textbf{else} \\ 0$$\n",
        "\n",
        "\n",
        "And log likelihood is defined as:\n",
        "\n",
        "$$L = \\sum_i [y_i\\cdot log(p(x_i)) + (1-y_i) \\cdot log(1-p(x_i))] $$\n",
        "\n"
      ],
      "metadata": {
        "id": "9KTQQAvb1yjE"
      }
    },
    {
      "cell_type": "markdown",
      "metadata": {
        "id": "UwjSrgPPfx_J"
      },
      "source": [
        "### A new application of logistic regression: the dative alternation\n",
        "\n",
        "The work you need to do for this pset involves applying logistic regression to a new case, the **dative alternation**, which we studied in a previous pset.  We will use the `dative` dataset from Bresnan et al. (2007).  First we load the dataset:"
      ]
    },
    {
      "cell_type": "code",
      "metadata": {
        "id": "sX-5A8DDiFDC",
        "colab": {
          "base_uri": "https://localhost:8080/",
          "height": 461
        },
        "outputId": "0e829143-fc0c-4f1c-be32-a42bd888755c"
      },
      "source": [
        "dat = pd.read_csv(\"https://gist.githubusercontent.com/omershubi/278815a736401d36021aa9fe31b9a0cb/raw/cf338a8cf745fa5820c4ea97af682d265bc1a34f/dative-alternation.csv\")\n",
        "dat"
      ],
      "execution_count": null,
      "outputs": [
        {
          "output_type": "execute_result",
          "data": {
            "text/plain": [
              "      Unnamed: 0 Speaker Modality   Verb SemanticClass  LengthOfRecipient  \\\n",
              "0              1     NaN  written   feed             t                  1   \n",
              "1              2     NaN  written   give             a                  2   \n",
              "2              3     NaN  written   give             a                  1   \n",
              "3              4     NaN  written   give             a                  1   \n",
              "4              5     NaN  written  offer             c                  2   \n",
              "...          ...     ...      ...    ...           ...                ...   \n",
              "3258        3258   S1190   spoken   tell             c                  1   \n",
              "3259        3259   S1423   spoken   give             a                  1   \n",
              "3260        3260   S1680   spoken   give             a                  4   \n",
              "3261        3261   S1680   spoken   give             a                  1   \n",
              "3262        3262   S1023   spoken    pay             a                  1   \n",
              "\n",
              "     AnimacyOfRec  DefinOfRec    PronomOfRec  LengthOfTheme AnimacyOfTheme  \\\n",
              "0         animate    definite     pronominal             14      inanimate   \n",
              "1         animate    definite  nonpronominal              3      inanimate   \n",
              "2         animate    definite  nonpronominal             13      inanimate   \n",
              "3         animate    definite     pronominal              5      inanimate   \n",
              "4         animate    definite  nonpronominal              3      inanimate   \n",
              "...           ...         ...            ...            ...            ...   \n",
              "3258      animate    definite     pronominal              1      inanimate   \n",
              "3259      animate    definite     pronominal              9      inanimate   \n",
              "3260      animate  indefinite  nonpronominal              2      inanimate   \n",
              "3261    inanimate    definite     pronominal              2      inanimate   \n",
              "3262      animate    definite     pronominal              2      inanimate   \n",
              "\n",
              "     DefinOfTheme  PronomOfTheme RealizationOfRecipient AccessOfRec  \\\n",
              "0      indefinite  nonpronominal                     NP       given   \n",
              "1      indefinite  nonpronominal                     NP       given   \n",
              "2        definite  nonpronominal                     NP       given   \n",
              "3      indefinite  nonpronominal                     NP       given   \n",
              "4        definite  nonpronominal                     NP       given   \n",
              "...           ...            ...                    ...         ...   \n",
              "3258     definite     pronominal                     NP       given   \n",
              "3259   indefinite  nonpronominal                     NP       given   \n",
              "3260     definite  nonpronominal                     PP  accessible   \n",
              "3261   indefinite  nonpronominal                     NP       given   \n",
              "3262   indefinite  nonpronominal                     NP       given   \n",
              "\n",
              "     AccessOfTheme  \n",
              "0              new  \n",
              "1              new  \n",
              "2              new  \n",
              "3              new  \n",
              "4              new  \n",
              "...            ...  \n",
              "3258         given  \n",
              "3259    accessible  \n",
              "3260    accessible  \n",
              "3261    accessible  \n",
              "3262    accessible  \n",
              "\n",
              "[3263 rows x 16 columns]"
            ],
            "text/html": [
              "\n",
              "  <div id=\"df-233b6851-1b1b-47ab-8fed-95f9e8083fa0\" class=\"colab-df-container\">\n",
              "    <div>\n",
              "<style scoped>\n",
              "    .dataframe tbody tr th:only-of-type {\n",
              "        vertical-align: middle;\n",
              "    }\n",
              "\n",
              "    .dataframe tbody tr th {\n",
              "        vertical-align: top;\n",
              "    }\n",
              "\n",
              "    .dataframe thead th {\n",
              "        text-align: right;\n",
              "    }\n",
              "</style>\n",
              "<table border=\"1\" class=\"dataframe\">\n",
              "  <thead>\n",
              "    <tr style=\"text-align: right;\">\n",
              "      <th></th>\n",
              "      <th>Unnamed: 0</th>\n",
              "      <th>Speaker</th>\n",
              "      <th>Modality</th>\n",
              "      <th>Verb</th>\n",
              "      <th>SemanticClass</th>\n",
              "      <th>LengthOfRecipient</th>\n",
              "      <th>AnimacyOfRec</th>\n",
              "      <th>DefinOfRec</th>\n",
              "      <th>PronomOfRec</th>\n",
              "      <th>LengthOfTheme</th>\n",
              "      <th>AnimacyOfTheme</th>\n",
              "      <th>DefinOfTheme</th>\n",
              "      <th>PronomOfTheme</th>\n",
              "      <th>RealizationOfRecipient</th>\n",
              "      <th>AccessOfRec</th>\n",
              "      <th>AccessOfTheme</th>\n",
              "    </tr>\n",
              "  </thead>\n",
              "  <tbody>\n",
              "    <tr>\n",
              "      <th>0</th>\n",
              "      <td>1</td>\n",
              "      <td>NaN</td>\n",
              "      <td>written</td>\n",
              "      <td>feed</td>\n",
              "      <td>t</td>\n",
              "      <td>1</td>\n",
              "      <td>animate</td>\n",
              "      <td>definite</td>\n",
              "      <td>pronominal</td>\n",
              "      <td>14</td>\n",
              "      <td>inanimate</td>\n",
              "      <td>indefinite</td>\n",
              "      <td>nonpronominal</td>\n",
              "      <td>NP</td>\n",
              "      <td>given</td>\n",
              "      <td>new</td>\n",
              "    </tr>\n",
              "    <tr>\n",
              "      <th>1</th>\n",
              "      <td>2</td>\n",
              "      <td>NaN</td>\n",
              "      <td>written</td>\n",
              "      <td>give</td>\n",
              "      <td>a</td>\n",
              "      <td>2</td>\n",
              "      <td>animate</td>\n",
              "      <td>definite</td>\n",
              "      <td>nonpronominal</td>\n",
              "      <td>3</td>\n",
              "      <td>inanimate</td>\n",
              "      <td>indefinite</td>\n",
              "      <td>nonpronominal</td>\n",
              "      <td>NP</td>\n",
              "      <td>given</td>\n",
              "      <td>new</td>\n",
              "    </tr>\n",
              "    <tr>\n",
              "      <th>2</th>\n",
              "      <td>3</td>\n",
              "      <td>NaN</td>\n",
              "      <td>written</td>\n",
              "      <td>give</td>\n",
              "      <td>a</td>\n",
              "      <td>1</td>\n",
              "      <td>animate</td>\n",
              "      <td>definite</td>\n",
              "      <td>nonpronominal</td>\n",
              "      <td>13</td>\n",
              "      <td>inanimate</td>\n",
              "      <td>definite</td>\n",
              "      <td>nonpronominal</td>\n",
              "      <td>NP</td>\n",
              "      <td>given</td>\n",
              "      <td>new</td>\n",
              "    </tr>\n",
              "    <tr>\n",
              "      <th>3</th>\n",
              "      <td>4</td>\n",
              "      <td>NaN</td>\n",
              "      <td>written</td>\n",
              "      <td>give</td>\n",
              "      <td>a</td>\n",
              "      <td>1</td>\n",
              "      <td>animate</td>\n",
              "      <td>definite</td>\n",
              "      <td>pronominal</td>\n",
              "      <td>5</td>\n",
              "      <td>inanimate</td>\n",
              "      <td>indefinite</td>\n",
              "      <td>nonpronominal</td>\n",
              "      <td>NP</td>\n",
              "      <td>given</td>\n",
              "      <td>new</td>\n",
              "    </tr>\n",
              "    <tr>\n",
              "      <th>4</th>\n",
              "      <td>5</td>\n",
              "      <td>NaN</td>\n",
              "      <td>written</td>\n",
              "      <td>offer</td>\n",
              "      <td>c</td>\n",
              "      <td>2</td>\n",
              "      <td>animate</td>\n",
              "      <td>definite</td>\n",
              "      <td>nonpronominal</td>\n",
              "      <td>3</td>\n",
              "      <td>inanimate</td>\n",
              "      <td>definite</td>\n",
              "      <td>nonpronominal</td>\n",
              "      <td>NP</td>\n",
              "      <td>given</td>\n",
              "      <td>new</td>\n",
              "    </tr>\n",
              "    <tr>\n",
              "      <th>...</th>\n",
              "      <td>...</td>\n",
              "      <td>...</td>\n",
              "      <td>...</td>\n",
              "      <td>...</td>\n",
              "      <td>...</td>\n",
              "      <td>...</td>\n",
              "      <td>...</td>\n",
              "      <td>...</td>\n",
              "      <td>...</td>\n",
              "      <td>...</td>\n",
              "      <td>...</td>\n",
              "      <td>...</td>\n",
              "      <td>...</td>\n",
              "      <td>...</td>\n",
              "      <td>...</td>\n",
              "      <td>...</td>\n",
              "    </tr>\n",
              "    <tr>\n",
              "      <th>3258</th>\n",
              "      <td>3258</td>\n",
              "      <td>S1190</td>\n",
              "      <td>spoken</td>\n",
              "      <td>tell</td>\n",
              "      <td>c</td>\n",
              "      <td>1</td>\n",
              "      <td>animate</td>\n",
              "      <td>definite</td>\n",
              "      <td>pronominal</td>\n",
              "      <td>1</td>\n",
              "      <td>inanimate</td>\n",
              "      <td>definite</td>\n",
              "      <td>pronominal</td>\n",
              "      <td>NP</td>\n",
              "      <td>given</td>\n",
              "      <td>given</td>\n",
              "    </tr>\n",
              "    <tr>\n",
              "      <th>3259</th>\n",
              "      <td>3259</td>\n",
              "      <td>S1423</td>\n",
              "      <td>spoken</td>\n",
              "      <td>give</td>\n",
              "      <td>a</td>\n",
              "      <td>1</td>\n",
              "      <td>animate</td>\n",
              "      <td>definite</td>\n",
              "      <td>pronominal</td>\n",
              "      <td>9</td>\n",
              "      <td>inanimate</td>\n",
              "      <td>indefinite</td>\n",
              "      <td>nonpronominal</td>\n",
              "      <td>NP</td>\n",
              "      <td>given</td>\n",
              "      <td>accessible</td>\n",
              "    </tr>\n",
              "    <tr>\n",
              "      <th>3260</th>\n",
              "      <td>3260</td>\n",
              "      <td>S1680</td>\n",
              "      <td>spoken</td>\n",
              "      <td>give</td>\n",
              "      <td>a</td>\n",
              "      <td>4</td>\n",
              "      <td>animate</td>\n",
              "      <td>indefinite</td>\n",
              "      <td>nonpronominal</td>\n",
              "      <td>2</td>\n",
              "      <td>inanimate</td>\n",
              "      <td>definite</td>\n",
              "      <td>nonpronominal</td>\n",
              "      <td>PP</td>\n",
              "      <td>accessible</td>\n",
              "      <td>accessible</td>\n",
              "    </tr>\n",
              "    <tr>\n",
              "      <th>3261</th>\n",
              "      <td>3261</td>\n",
              "      <td>S1680</td>\n",
              "      <td>spoken</td>\n",
              "      <td>give</td>\n",
              "      <td>a</td>\n",
              "      <td>1</td>\n",
              "      <td>inanimate</td>\n",
              "      <td>definite</td>\n",
              "      <td>pronominal</td>\n",
              "      <td>2</td>\n",
              "      <td>inanimate</td>\n",
              "      <td>indefinite</td>\n",
              "      <td>nonpronominal</td>\n",
              "      <td>NP</td>\n",
              "      <td>given</td>\n",
              "      <td>accessible</td>\n",
              "    </tr>\n",
              "    <tr>\n",
              "      <th>3262</th>\n",
              "      <td>3262</td>\n",
              "      <td>S1023</td>\n",
              "      <td>spoken</td>\n",
              "      <td>pay</td>\n",
              "      <td>a</td>\n",
              "      <td>1</td>\n",
              "      <td>animate</td>\n",
              "      <td>definite</td>\n",
              "      <td>pronominal</td>\n",
              "      <td>2</td>\n",
              "      <td>inanimate</td>\n",
              "      <td>indefinite</td>\n",
              "      <td>nonpronominal</td>\n",
              "      <td>NP</td>\n",
              "      <td>given</td>\n",
              "      <td>accessible</td>\n",
              "    </tr>\n",
              "  </tbody>\n",
              "</table>\n",
              "<p>3263 rows × 16 columns</p>\n",
              "</div>\n",
              "    <div class=\"colab-df-buttons\">\n",
              "\n",
              "  <div class=\"colab-df-container\">\n",
              "    <button class=\"colab-df-convert\" onclick=\"convertToInteractive('df-233b6851-1b1b-47ab-8fed-95f9e8083fa0')\"\n",
              "            title=\"Convert this dataframe to an interactive table.\"\n",
              "            style=\"display:none;\">\n",
              "\n",
              "  <svg xmlns=\"http://www.w3.org/2000/svg\" height=\"24px\" viewBox=\"0 -960 960 960\">\n",
              "    <path d=\"M120-120v-720h720v720H120Zm60-500h600v-160H180v160Zm220 220h160v-160H400v160Zm0 220h160v-160H400v160ZM180-400h160v-160H180v160Zm440 0h160v-160H620v160ZM180-180h160v-160H180v160Zm440 0h160v-160H620v160Z\"/>\n",
              "  </svg>\n",
              "    </button>\n",
              "\n",
              "  <style>\n",
              "    .colab-df-container {\n",
              "      display:flex;\n",
              "      gap: 12px;\n",
              "    }\n",
              "\n",
              "    .colab-df-convert {\n",
              "      background-color: #E8F0FE;\n",
              "      border: none;\n",
              "      border-radius: 50%;\n",
              "      cursor: pointer;\n",
              "      display: none;\n",
              "      fill: #1967D2;\n",
              "      height: 32px;\n",
              "      padding: 0 0 0 0;\n",
              "      width: 32px;\n",
              "    }\n",
              "\n",
              "    .colab-df-convert:hover {\n",
              "      background-color: #E2EBFA;\n",
              "      box-shadow: 0px 1px 2px rgba(60, 64, 67, 0.3), 0px 1px 3px 1px rgba(60, 64, 67, 0.15);\n",
              "      fill: #174EA6;\n",
              "    }\n",
              "\n",
              "    .colab-df-buttons div {\n",
              "      margin-bottom: 4px;\n",
              "    }\n",
              "\n",
              "    [theme=dark] .colab-df-convert {\n",
              "      background-color: #3B4455;\n",
              "      fill: #D2E3FC;\n",
              "    }\n",
              "\n",
              "    [theme=dark] .colab-df-convert:hover {\n",
              "      background-color: #434B5C;\n",
              "      box-shadow: 0px 1px 3px 1px rgba(0, 0, 0, 0.15);\n",
              "      filter: drop-shadow(0px 1px 2px rgba(0, 0, 0, 0.3));\n",
              "      fill: #FFFFFF;\n",
              "    }\n",
              "  </style>\n",
              "\n",
              "    <script>\n",
              "      const buttonEl =\n",
              "        document.querySelector('#df-233b6851-1b1b-47ab-8fed-95f9e8083fa0 button.colab-df-convert');\n",
              "      buttonEl.style.display =\n",
              "        google.colab.kernel.accessAllowed ? 'block' : 'none';\n",
              "\n",
              "      async function convertToInteractive(key) {\n",
              "        const element = document.querySelector('#df-233b6851-1b1b-47ab-8fed-95f9e8083fa0');\n",
              "        const dataTable =\n",
              "          await google.colab.kernel.invokeFunction('convertToInteractive',\n",
              "                                                    [key], {});\n",
              "        if (!dataTable) return;\n",
              "\n",
              "        const docLinkHtml = 'Like what you see? Visit the ' +\n",
              "          '<a target=\"_blank\" href=https://colab.research.google.com/notebooks/data_table.ipynb>data table notebook</a>'\n",
              "          + ' to learn more about interactive tables.';\n",
              "        element.innerHTML = '';\n",
              "        dataTable['output_type'] = 'display_data';\n",
              "        await google.colab.output.renderOutput(dataTable, element);\n",
              "        const docLink = document.createElement('div');\n",
              "        docLink.innerHTML = docLinkHtml;\n",
              "        element.appendChild(docLink);\n",
              "      }\n",
              "    </script>\n",
              "  </div>\n",
              "\n",
              "\n",
              "    <div id=\"df-4ccc21bd-dd02-43da-b2a7-9d82449b9743\">\n",
              "      <button class=\"colab-df-quickchart\" onclick=\"quickchart('df-4ccc21bd-dd02-43da-b2a7-9d82449b9743')\"\n",
              "                title=\"Suggest charts\"\n",
              "                style=\"display:none;\">\n",
              "\n",
              "<svg xmlns=\"http://www.w3.org/2000/svg\" height=\"24px\"viewBox=\"0 0 24 24\"\n",
              "     width=\"24px\">\n",
              "    <g>\n",
              "        <path d=\"M19 3H5c-1.1 0-2 .9-2 2v14c0 1.1.9 2 2 2h14c1.1 0 2-.9 2-2V5c0-1.1-.9-2-2-2zM9 17H7v-7h2v7zm4 0h-2V7h2v10zm4 0h-2v-4h2v4z\"/>\n",
              "    </g>\n",
              "</svg>\n",
              "      </button>\n",
              "\n",
              "<style>\n",
              "  .colab-df-quickchart {\n",
              "      --bg-color: #E8F0FE;\n",
              "      --fill-color: #1967D2;\n",
              "      --hover-bg-color: #E2EBFA;\n",
              "      --hover-fill-color: #174EA6;\n",
              "      --disabled-fill-color: #AAA;\n",
              "      --disabled-bg-color: #DDD;\n",
              "  }\n",
              "\n",
              "  [theme=dark] .colab-df-quickchart {\n",
              "      --bg-color: #3B4455;\n",
              "      --fill-color: #D2E3FC;\n",
              "      --hover-bg-color: #434B5C;\n",
              "      --hover-fill-color: #FFFFFF;\n",
              "      --disabled-bg-color: #3B4455;\n",
              "      --disabled-fill-color: #666;\n",
              "  }\n",
              "\n",
              "  .colab-df-quickchart {\n",
              "    background-color: var(--bg-color);\n",
              "    border: none;\n",
              "    border-radius: 50%;\n",
              "    cursor: pointer;\n",
              "    display: none;\n",
              "    fill: var(--fill-color);\n",
              "    height: 32px;\n",
              "    padding: 0;\n",
              "    width: 32px;\n",
              "  }\n",
              "\n",
              "  .colab-df-quickchart:hover {\n",
              "    background-color: var(--hover-bg-color);\n",
              "    box-shadow: 0 1px 2px rgba(60, 64, 67, 0.3), 0 1px 3px 1px rgba(60, 64, 67, 0.15);\n",
              "    fill: var(--button-hover-fill-color);\n",
              "  }\n",
              "\n",
              "  .colab-df-quickchart-complete:disabled,\n",
              "  .colab-df-quickchart-complete:disabled:hover {\n",
              "    background-color: var(--disabled-bg-color);\n",
              "    fill: var(--disabled-fill-color);\n",
              "    box-shadow: none;\n",
              "  }\n",
              "\n",
              "  .colab-df-spinner {\n",
              "    border: 2px solid var(--fill-color);\n",
              "    border-color: transparent;\n",
              "    border-bottom-color: var(--fill-color);\n",
              "    animation:\n",
              "      spin 1s steps(1) infinite;\n",
              "  }\n",
              "\n",
              "  @keyframes spin {\n",
              "    0% {\n",
              "      border-color: transparent;\n",
              "      border-bottom-color: var(--fill-color);\n",
              "      border-left-color: var(--fill-color);\n",
              "    }\n",
              "    20% {\n",
              "      border-color: transparent;\n",
              "      border-left-color: var(--fill-color);\n",
              "      border-top-color: var(--fill-color);\n",
              "    }\n",
              "    30% {\n",
              "      border-color: transparent;\n",
              "      border-left-color: var(--fill-color);\n",
              "      border-top-color: var(--fill-color);\n",
              "      border-right-color: var(--fill-color);\n",
              "    }\n",
              "    40% {\n",
              "      border-color: transparent;\n",
              "      border-right-color: var(--fill-color);\n",
              "      border-top-color: var(--fill-color);\n",
              "    }\n",
              "    60% {\n",
              "      border-color: transparent;\n",
              "      border-right-color: var(--fill-color);\n",
              "    }\n",
              "    80% {\n",
              "      border-color: transparent;\n",
              "      border-right-color: var(--fill-color);\n",
              "      border-bottom-color: var(--fill-color);\n",
              "    }\n",
              "    90% {\n",
              "      border-color: transparent;\n",
              "      border-bottom-color: var(--fill-color);\n",
              "    }\n",
              "  }\n",
              "</style>\n",
              "\n",
              "      <script>\n",
              "        async function quickchart(key) {\n",
              "          const quickchartButtonEl =\n",
              "            document.querySelector('#' + key + ' button');\n",
              "          quickchartButtonEl.disabled = true;  // To prevent multiple clicks.\n",
              "          quickchartButtonEl.classList.add('colab-df-spinner');\n",
              "          try {\n",
              "            const charts = await google.colab.kernel.invokeFunction(\n",
              "                'suggestCharts', [key], {});\n",
              "          } catch (error) {\n",
              "            console.error('Error during call to suggestCharts:', error);\n",
              "          }\n",
              "          quickchartButtonEl.classList.remove('colab-df-spinner');\n",
              "          quickchartButtonEl.classList.add('colab-df-quickchart-complete');\n",
              "        }\n",
              "        (() => {\n",
              "          let quickchartButtonEl =\n",
              "            document.querySelector('#df-4ccc21bd-dd02-43da-b2a7-9d82449b9743 button');\n",
              "          quickchartButtonEl.style.display =\n",
              "            google.colab.kernel.accessAllowed ? 'block' : 'none';\n",
              "        })();\n",
              "      </script>\n",
              "    </div>\n",
              "\n",
              "  <div id=\"id_f645e1cc-1731-4a37-a16c-2946c3fea867\">\n",
              "    <style>\n",
              "      .colab-df-generate {\n",
              "        background-color: #E8F0FE;\n",
              "        border: none;\n",
              "        border-radius: 50%;\n",
              "        cursor: pointer;\n",
              "        display: none;\n",
              "        fill: #1967D2;\n",
              "        height: 32px;\n",
              "        padding: 0 0 0 0;\n",
              "        width: 32px;\n",
              "      }\n",
              "\n",
              "      .colab-df-generate:hover {\n",
              "        background-color: #E2EBFA;\n",
              "        box-shadow: 0px 1px 2px rgba(60, 64, 67, 0.3), 0px 1px 3px 1px rgba(60, 64, 67, 0.15);\n",
              "        fill: #174EA6;\n",
              "      }\n",
              "\n",
              "      [theme=dark] .colab-df-generate {\n",
              "        background-color: #3B4455;\n",
              "        fill: #D2E3FC;\n",
              "      }\n",
              "\n",
              "      [theme=dark] .colab-df-generate:hover {\n",
              "        background-color: #434B5C;\n",
              "        box-shadow: 0px 1px 3px 1px rgba(0, 0, 0, 0.15);\n",
              "        filter: drop-shadow(0px 1px 2px rgba(0, 0, 0, 0.3));\n",
              "        fill: #FFFFFF;\n",
              "      }\n",
              "    </style>\n",
              "    <button class=\"colab-df-generate\" onclick=\"generateWithVariable('dat')\"\n",
              "            title=\"Generate code using this dataframe.\"\n",
              "            style=\"display:none;\">\n",
              "\n",
              "  <svg xmlns=\"http://www.w3.org/2000/svg\" height=\"24px\"viewBox=\"0 0 24 24\"\n",
              "       width=\"24px\">\n",
              "    <path d=\"M7,19H8.4L18.45,9,17,7.55,7,17.6ZM5,21V16.75L18.45,3.32a2,2,0,0,1,2.83,0l1.4,1.43a1.91,1.91,0,0,1,.58,1.4,1.91,1.91,0,0,1-.58,1.4L9.25,21ZM18.45,9,17,7.55Zm-12,3A5.31,5.31,0,0,0,4.9,8.1,5.31,5.31,0,0,0,1,6.5,5.31,5.31,0,0,0,4.9,4.9,5.31,5.31,0,0,0,6.5,1,5.31,5.31,0,0,0,8.1,4.9,5.31,5.31,0,0,0,12,6.5,5.46,5.46,0,0,0,6.5,12Z\"/>\n",
              "  </svg>\n",
              "    </button>\n",
              "    <script>\n",
              "      (() => {\n",
              "      const buttonEl =\n",
              "        document.querySelector('#id_f645e1cc-1731-4a37-a16c-2946c3fea867 button.colab-df-generate');\n",
              "      buttonEl.style.display =\n",
              "        google.colab.kernel.accessAllowed ? 'block' : 'none';\n",
              "\n",
              "      buttonEl.onclick = () => {\n",
              "        google.colab.notebook.generateWithVariable('dat');\n",
              "      }\n",
              "      })();\n",
              "    </script>\n",
              "  </div>\n",
              "\n",
              "    </div>\n",
              "  </div>\n"
            ],
            "application/vnd.google.colaboratory.intrinsic+json": {
              "type": "dataframe",
              "variable_name": "dat",
              "summary": "{\n  \"name\": \"dat\",\n  \"rows\": 3263,\n  \"fields\": [\n    {\n      \"column\": \"Unnamed: 0\",\n      \"properties\": {\n        \"dtype\": \"number\",\n        \"std\": 942,\n        \"min\": 1,\n        \"max\": 3263,\n        \"num_unique_values\": 3263,\n        \"samples\": [\n          2406,\n          135,\n          412\n        ],\n        \"semantic_type\": \"\",\n        \"description\": \"\"\n      }\n    },\n    {\n      \"column\": \"Speaker\",\n      \"properties\": {\n        \"dtype\": \"category\",\n        \"num_unique_values\": 424,\n        \"samples\": [\n          \"S1244\",\n          \"S1298\",\n          \"S1188\"\n        ],\n        \"semantic_type\": \"\",\n        \"description\": \"\"\n      }\n    },\n    {\n      \"column\": \"Modality\",\n      \"properties\": {\n        \"dtype\": \"category\",\n        \"num_unique_values\": 2,\n        \"samples\": [\n          \"spoken\",\n          \"written\"\n        ],\n        \"semantic_type\": \"\",\n        \"description\": \"\"\n      }\n    },\n    {\n      \"column\": \"Verb\",\n      \"properties\": {\n        \"dtype\": \"category\",\n        \"num_unique_values\": 75,\n        \"samples\": [\n          \"bring\",\n          \"tender\"\n        ],\n        \"semantic_type\": \"\",\n        \"description\": \"\"\n      }\n    },\n    {\n      \"column\": \"SemanticClass\",\n      \"properties\": {\n        \"dtype\": \"category\",\n        \"num_unique_values\": 5,\n        \"samples\": [\n          \"a\",\n          \"f\"\n        ],\n        \"semantic_type\": \"\",\n        \"description\": \"\"\n      }\n    },\n    {\n      \"column\": \"LengthOfRecipient\",\n      \"properties\": {\n        \"dtype\": \"number\",\n        \"std\": 2,\n        \"min\": 1,\n        \"max\": 31,\n        \"num_unique_values\": 20,\n        \"samples\": [\n          1,\n          20\n        ],\n        \"semantic_type\": \"\",\n        \"description\": \"\"\n      }\n    },\n    {\n      \"column\": \"AnimacyOfRec\",\n      \"properties\": {\n        \"dtype\": \"category\",\n        \"num_unique_values\": 2,\n        \"samples\": [\n          \"inanimate\",\n          \"animate\"\n        ],\n        \"semantic_type\": \"\",\n        \"description\": \"\"\n      }\n    },\n    {\n      \"column\": \"DefinOfRec\",\n      \"properties\": {\n        \"dtype\": \"category\",\n        \"num_unique_values\": 2,\n        \"samples\": [\n          \"indefinite\",\n          \"definite\"\n        ],\n        \"semantic_type\": \"\",\n        \"description\": \"\"\n      }\n    },\n    {\n      \"column\": \"PronomOfRec\",\n      \"properties\": {\n        \"dtype\": \"category\",\n        \"num_unique_values\": 2,\n        \"samples\": [\n          \"nonpronominal\",\n          \"pronominal\"\n        ],\n        \"semantic_type\": \"\",\n        \"description\": \"\"\n      }\n    },\n    {\n      \"column\": \"LengthOfTheme\",\n      \"properties\": {\n        \"dtype\": \"number\",\n        \"std\": 4,\n        \"min\": 1,\n        \"max\": 46,\n        \"num_unique_values\": 36,\n        \"samples\": [\n          46,\n          12\n        ],\n        \"semantic_type\": \"\",\n        \"description\": \"\"\n      }\n    },\n    {\n      \"column\": \"AnimacyOfTheme\",\n      \"properties\": {\n        \"dtype\": \"category\",\n        \"num_unique_values\": 2,\n        \"samples\": [\n          \"animate\",\n          \"inanimate\"\n        ],\n        \"semantic_type\": \"\",\n        \"description\": \"\"\n      }\n    },\n    {\n      \"column\": \"DefinOfTheme\",\n      \"properties\": {\n        \"dtype\": \"category\",\n        \"num_unique_values\": 2,\n        \"samples\": [\n          \"definite\",\n          \"indefinite\"\n        ],\n        \"semantic_type\": \"\",\n        \"description\": \"\"\n      }\n    },\n    {\n      \"column\": \"PronomOfTheme\",\n      \"properties\": {\n        \"dtype\": \"category\",\n        \"num_unique_values\": 2,\n        \"samples\": [\n          \"pronominal\",\n          \"nonpronominal\"\n        ],\n        \"semantic_type\": \"\",\n        \"description\": \"\"\n      }\n    },\n    {\n      \"column\": \"RealizationOfRecipient\",\n      \"properties\": {\n        \"dtype\": \"category\",\n        \"num_unique_values\": 2,\n        \"samples\": [\n          \"PP\",\n          \"NP\"\n        ],\n        \"semantic_type\": \"\",\n        \"description\": \"\"\n      }\n    },\n    {\n      \"column\": \"AccessOfRec\",\n      \"properties\": {\n        \"dtype\": \"category\",\n        \"num_unique_values\": 3,\n        \"samples\": [\n          \"given\",\n          \"accessible\"\n        ],\n        \"semantic_type\": \"\",\n        \"description\": \"\"\n      }\n    },\n    {\n      \"column\": \"AccessOfTheme\",\n      \"properties\": {\n        \"dtype\": \"category\",\n        \"num_unique_values\": 3,\n        \"samples\": [\n          \"new\",\n          \"accessible\"\n        ],\n        \"semantic_type\": \"\",\n        \"description\": \"\"\n      }\n    }\n  ]\n}"
            }
          },
          "metadata": {},
          "execution_count": 45
        }
      ]
    },
    {
      "cell_type": "markdown",
      "metadata": {
        "id": "iRnks1NCt4Ws"
      },
      "source": [
        "We see that it uses text values for some of the variables we are interested in (the response variable `RealizationOfRecipient`, and the variables expressing length and pronominality of theme and object).  We create numeric versions of these variables, arbitrarily coding a double object outcome as `1` (\"success\") and a prepositional dative outcome as `0`."
      ]
    },
    {
      "cell_type": "code",
      "metadata": {
        "id": "22n2F4hFuH5t",
        "colab": {
          "base_uri": "https://localhost:8080/",
          "height": 424
        },
        "outputId": "2fc5a866-f091-4d5b-b0a6-d90a2fbaab12"
      },
      "source": [
        "dat[\"Response\"] = [1 if x ==\"NP\" else 0 for x in dat[\"RealizationOfRecipient\"]]\n",
        "dat[\"RecPro\"] = [1 if x ==\"pronominal\" else 0 for x in dat[\"PronomOfRec\"]]\n",
        "dat[\"ThemePro\"] = [1 if x ==\"pronominal\" else 0 for x in dat[\"PronomOfTheme\"]]\n",
        "dat[[\"RealizationOfRecipient\",\"Response\",\"PronomOfRec\",\"RecPro\",\"ThemePro\"]]"
      ],
      "execution_count": null,
      "outputs": [
        {
          "output_type": "execute_result",
          "data": {
            "text/plain": [
              "     RealizationOfRecipient  Response    PronomOfRec  RecPro  ThemePro\n",
              "0                        NP         1     pronominal       1         0\n",
              "1                        NP         1  nonpronominal       0         0\n",
              "2                        NP         1  nonpronominal       0         0\n",
              "3                        NP         1     pronominal       1         0\n",
              "4                        NP         1  nonpronominal       0         0\n",
              "...                     ...       ...            ...     ...       ...\n",
              "3258                     NP         1     pronominal       1         1\n",
              "3259                     NP         1     pronominal       1         0\n",
              "3260                     PP         0  nonpronominal       0         0\n",
              "3261                     NP         1     pronominal       1         0\n",
              "3262                     NP         1     pronominal       1         0\n",
              "\n",
              "[3263 rows x 5 columns]"
            ],
            "text/html": [
              "\n",
              "  <div id=\"df-ba5e953c-5667-4f08-9b32-ced548bf3692\" class=\"colab-df-container\">\n",
              "    <div>\n",
              "<style scoped>\n",
              "    .dataframe tbody tr th:only-of-type {\n",
              "        vertical-align: middle;\n",
              "    }\n",
              "\n",
              "    .dataframe tbody tr th {\n",
              "        vertical-align: top;\n",
              "    }\n",
              "\n",
              "    .dataframe thead th {\n",
              "        text-align: right;\n",
              "    }\n",
              "</style>\n",
              "<table border=\"1\" class=\"dataframe\">\n",
              "  <thead>\n",
              "    <tr style=\"text-align: right;\">\n",
              "      <th></th>\n",
              "      <th>RealizationOfRecipient</th>\n",
              "      <th>Response</th>\n",
              "      <th>PronomOfRec</th>\n",
              "      <th>RecPro</th>\n",
              "      <th>ThemePro</th>\n",
              "    </tr>\n",
              "  </thead>\n",
              "  <tbody>\n",
              "    <tr>\n",
              "      <th>0</th>\n",
              "      <td>NP</td>\n",
              "      <td>1</td>\n",
              "      <td>pronominal</td>\n",
              "      <td>1</td>\n",
              "      <td>0</td>\n",
              "    </tr>\n",
              "    <tr>\n",
              "      <th>1</th>\n",
              "      <td>NP</td>\n",
              "      <td>1</td>\n",
              "      <td>nonpronominal</td>\n",
              "      <td>0</td>\n",
              "      <td>0</td>\n",
              "    </tr>\n",
              "    <tr>\n",
              "      <th>2</th>\n",
              "      <td>NP</td>\n",
              "      <td>1</td>\n",
              "      <td>nonpronominal</td>\n",
              "      <td>0</td>\n",
              "      <td>0</td>\n",
              "    </tr>\n",
              "    <tr>\n",
              "      <th>3</th>\n",
              "      <td>NP</td>\n",
              "      <td>1</td>\n",
              "      <td>pronominal</td>\n",
              "      <td>1</td>\n",
              "      <td>0</td>\n",
              "    </tr>\n",
              "    <tr>\n",
              "      <th>4</th>\n",
              "      <td>NP</td>\n",
              "      <td>1</td>\n",
              "      <td>nonpronominal</td>\n",
              "      <td>0</td>\n",
              "      <td>0</td>\n",
              "    </tr>\n",
              "    <tr>\n",
              "      <th>...</th>\n",
              "      <td>...</td>\n",
              "      <td>...</td>\n",
              "      <td>...</td>\n",
              "      <td>...</td>\n",
              "      <td>...</td>\n",
              "    </tr>\n",
              "    <tr>\n",
              "      <th>3258</th>\n",
              "      <td>NP</td>\n",
              "      <td>1</td>\n",
              "      <td>pronominal</td>\n",
              "      <td>1</td>\n",
              "      <td>1</td>\n",
              "    </tr>\n",
              "    <tr>\n",
              "      <th>3259</th>\n",
              "      <td>NP</td>\n",
              "      <td>1</td>\n",
              "      <td>pronominal</td>\n",
              "      <td>1</td>\n",
              "      <td>0</td>\n",
              "    </tr>\n",
              "    <tr>\n",
              "      <th>3260</th>\n",
              "      <td>PP</td>\n",
              "      <td>0</td>\n",
              "      <td>nonpronominal</td>\n",
              "      <td>0</td>\n",
              "      <td>0</td>\n",
              "    </tr>\n",
              "    <tr>\n",
              "      <th>3261</th>\n",
              "      <td>NP</td>\n",
              "      <td>1</td>\n",
              "      <td>pronominal</td>\n",
              "      <td>1</td>\n",
              "      <td>0</td>\n",
              "    </tr>\n",
              "    <tr>\n",
              "      <th>3262</th>\n",
              "      <td>NP</td>\n",
              "      <td>1</td>\n",
              "      <td>pronominal</td>\n",
              "      <td>1</td>\n",
              "      <td>0</td>\n",
              "    </tr>\n",
              "  </tbody>\n",
              "</table>\n",
              "<p>3263 rows × 5 columns</p>\n",
              "</div>\n",
              "    <div class=\"colab-df-buttons\">\n",
              "\n",
              "  <div class=\"colab-df-container\">\n",
              "    <button class=\"colab-df-convert\" onclick=\"convertToInteractive('df-ba5e953c-5667-4f08-9b32-ced548bf3692')\"\n",
              "            title=\"Convert this dataframe to an interactive table.\"\n",
              "            style=\"display:none;\">\n",
              "\n",
              "  <svg xmlns=\"http://www.w3.org/2000/svg\" height=\"24px\" viewBox=\"0 -960 960 960\">\n",
              "    <path d=\"M120-120v-720h720v720H120Zm60-500h600v-160H180v160Zm220 220h160v-160H400v160Zm0 220h160v-160H400v160ZM180-400h160v-160H180v160Zm440 0h160v-160H620v160ZM180-180h160v-160H180v160Zm440 0h160v-160H620v160Z\"/>\n",
              "  </svg>\n",
              "    </button>\n",
              "\n",
              "  <style>\n",
              "    .colab-df-container {\n",
              "      display:flex;\n",
              "      gap: 12px;\n",
              "    }\n",
              "\n",
              "    .colab-df-convert {\n",
              "      background-color: #E8F0FE;\n",
              "      border: none;\n",
              "      border-radius: 50%;\n",
              "      cursor: pointer;\n",
              "      display: none;\n",
              "      fill: #1967D2;\n",
              "      height: 32px;\n",
              "      padding: 0 0 0 0;\n",
              "      width: 32px;\n",
              "    }\n",
              "\n",
              "    .colab-df-convert:hover {\n",
              "      background-color: #E2EBFA;\n",
              "      box-shadow: 0px 1px 2px rgba(60, 64, 67, 0.3), 0px 1px 3px 1px rgba(60, 64, 67, 0.15);\n",
              "      fill: #174EA6;\n",
              "    }\n",
              "\n",
              "    .colab-df-buttons div {\n",
              "      margin-bottom: 4px;\n",
              "    }\n",
              "\n",
              "    [theme=dark] .colab-df-convert {\n",
              "      background-color: #3B4455;\n",
              "      fill: #D2E3FC;\n",
              "    }\n",
              "\n",
              "    [theme=dark] .colab-df-convert:hover {\n",
              "      background-color: #434B5C;\n",
              "      box-shadow: 0px 1px 3px 1px rgba(0, 0, 0, 0.15);\n",
              "      filter: drop-shadow(0px 1px 2px rgba(0, 0, 0, 0.3));\n",
              "      fill: #FFFFFF;\n",
              "    }\n",
              "  </style>\n",
              "\n",
              "    <script>\n",
              "      const buttonEl =\n",
              "        document.querySelector('#df-ba5e953c-5667-4f08-9b32-ced548bf3692 button.colab-df-convert');\n",
              "      buttonEl.style.display =\n",
              "        google.colab.kernel.accessAllowed ? 'block' : 'none';\n",
              "\n",
              "      async function convertToInteractive(key) {\n",
              "        const element = document.querySelector('#df-ba5e953c-5667-4f08-9b32-ced548bf3692');\n",
              "        const dataTable =\n",
              "          await google.colab.kernel.invokeFunction('convertToInteractive',\n",
              "                                                    [key], {});\n",
              "        if (!dataTable) return;\n",
              "\n",
              "        const docLinkHtml = 'Like what you see? Visit the ' +\n",
              "          '<a target=\"_blank\" href=https://colab.research.google.com/notebooks/data_table.ipynb>data table notebook</a>'\n",
              "          + ' to learn more about interactive tables.';\n",
              "        element.innerHTML = '';\n",
              "        dataTable['output_type'] = 'display_data';\n",
              "        await google.colab.output.renderOutput(dataTable, element);\n",
              "        const docLink = document.createElement('div');\n",
              "        docLink.innerHTML = docLinkHtml;\n",
              "        element.appendChild(docLink);\n",
              "      }\n",
              "    </script>\n",
              "  </div>\n",
              "\n",
              "\n",
              "    <div id=\"df-8ac7e0b4-8e86-4ce7-9f6f-b11fd5c4f12f\">\n",
              "      <button class=\"colab-df-quickchart\" onclick=\"quickchart('df-8ac7e0b4-8e86-4ce7-9f6f-b11fd5c4f12f')\"\n",
              "                title=\"Suggest charts\"\n",
              "                style=\"display:none;\">\n",
              "\n",
              "<svg xmlns=\"http://www.w3.org/2000/svg\" height=\"24px\"viewBox=\"0 0 24 24\"\n",
              "     width=\"24px\">\n",
              "    <g>\n",
              "        <path d=\"M19 3H5c-1.1 0-2 .9-2 2v14c0 1.1.9 2 2 2h14c1.1 0 2-.9 2-2V5c0-1.1-.9-2-2-2zM9 17H7v-7h2v7zm4 0h-2V7h2v10zm4 0h-2v-4h2v4z\"/>\n",
              "    </g>\n",
              "</svg>\n",
              "      </button>\n",
              "\n",
              "<style>\n",
              "  .colab-df-quickchart {\n",
              "      --bg-color: #E8F0FE;\n",
              "      --fill-color: #1967D2;\n",
              "      --hover-bg-color: #E2EBFA;\n",
              "      --hover-fill-color: #174EA6;\n",
              "      --disabled-fill-color: #AAA;\n",
              "      --disabled-bg-color: #DDD;\n",
              "  }\n",
              "\n",
              "  [theme=dark] .colab-df-quickchart {\n",
              "      --bg-color: #3B4455;\n",
              "      --fill-color: #D2E3FC;\n",
              "      --hover-bg-color: #434B5C;\n",
              "      --hover-fill-color: #FFFFFF;\n",
              "      --disabled-bg-color: #3B4455;\n",
              "      --disabled-fill-color: #666;\n",
              "  }\n",
              "\n",
              "  .colab-df-quickchart {\n",
              "    background-color: var(--bg-color);\n",
              "    border: none;\n",
              "    border-radius: 50%;\n",
              "    cursor: pointer;\n",
              "    display: none;\n",
              "    fill: var(--fill-color);\n",
              "    height: 32px;\n",
              "    padding: 0;\n",
              "    width: 32px;\n",
              "  }\n",
              "\n",
              "  .colab-df-quickchart:hover {\n",
              "    background-color: var(--hover-bg-color);\n",
              "    box-shadow: 0 1px 2px rgba(60, 64, 67, 0.3), 0 1px 3px 1px rgba(60, 64, 67, 0.15);\n",
              "    fill: var(--button-hover-fill-color);\n",
              "  }\n",
              "\n",
              "  .colab-df-quickchart-complete:disabled,\n",
              "  .colab-df-quickchart-complete:disabled:hover {\n",
              "    background-color: var(--disabled-bg-color);\n",
              "    fill: var(--disabled-fill-color);\n",
              "    box-shadow: none;\n",
              "  }\n",
              "\n",
              "  .colab-df-spinner {\n",
              "    border: 2px solid var(--fill-color);\n",
              "    border-color: transparent;\n",
              "    border-bottom-color: var(--fill-color);\n",
              "    animation:\n",
              "      spin 1s steps(1) infinite;\n",
              "  }\n",
              "\n",
              "  @keyframes spin {\n",
              "    0% {\n",
              "      border-color: transparent;\n",
              "      border-bottom-color: var(--fill-color);\n",
              "      border-left-color: var(--fill-color);\n",
              "    }\n",
              "    20% {\n",
              "      border-color: transparent;\n",
              "      border-left-color: var(--fill-color);\n",
              "      border-top-color: var(--fill-color);\n",
              "    }\n",
              "    30% {\n",
              "      border-color: transparent;\n",
              "      border-left-color: var(--fill-color);\n",
              "      border-top-color: var(--fill-color);\n",
              "      border-right-color: var(--fill-color);\n",
              "    }\n",
              "    40% {\n",
              "      border-color: transparent;\n",
              "      border-right-color: var(--fill-color);\n",
              "      border-top-color: var(--fill-color);\n",
              "    }\n",
              "    60% {\n",
              "      border-color: transparent;\n",
              "      border-right-color: var(--fill-color);\n",
              "    }\n",
              "    80% {\n",
              "      border-color: transparent;\n",
              "      border-right-color: var(--fill-color);\n",
              "      border-bottom-color: var(--fill-color);\n",
              "    }\n",
              "    90% {\n",
              "      border-color: transparent;\n",
              "      border-bottom-color: var(--fill-color);\n",
              "    }\n",
              "  }\n",
              "</style>\n",
              "\n",
              "      <script>\n",
              "        async function quickchart(key) {\n",
              "          const quickchartButtonEl =\n",
              "            document.querySelector('#' + key + ' button');\n",
              "          quickchartButtonEl.disabled = true;  // To prevent multiple clicks.\n",
              "          quickchartButtonEl.classList.add('colab-df-spinner');\n",
              "          try {\n",
              "            const charts = await google.colab.kernel.invokeFunction(\n",
              "                'suggestCharts', [key], {});\n",
              "          } catch (error) {\n",
              "            console.error('Error during call to suggestCharts:', error);\n",
              "          }\n",
              "          quickchartButtonEl.classList.remove('colab-df-spinner');\n",
              "          quickchartButtonEl.classList.add('colab-df-quickchart-complete');\n",
              "        }\n",
              "        (() => {\n",
              "          let quickchartButtonEl =\n",
              "            document.querySelector('#df-8ac7e0b4-8e86-4ce7-9f6f-b11fd5c4f12f button');\n",
              "          quickchartButtonEl.style.display =\n",
              "            google.colab.kernel.accessAllowed ? 'block' : 'none';\n",
              "        })();\n",
              "      </script>\n",
              "    </div>\n",
              "\n",
              "    </div>\n",
              "  </div>\n"
            ],
            "application/vnd.google.colaboratory.intrinsic+json": {
              "type": "dataframe",
              "summary": "{\n  \"name\": \"dat[[\\\"RealizationOfRecipient\\\",\\\"Response\\\",\\\"PronomOfRec\\\",\\\"RecPro\\\",\\\"ThemePro\\\"]]\",\n  \"rows\": 3263,\n  \"fields\": [\n    {\n      \"column\": \"RealizationOfRecipient\",\n      \"properties\": {\n        \"dtype\": \"category\",\n        \"num_unique_values\": 2,\n        \"samples\": [\n          \"PP\",\n          \"NP\"\n        ],\n        \"semantic_type\": \"\",\n        \"description\": \"\"\n      }\n    },\n    {\n      \"column\": \"Response\",\n      \"properties\": {\n        \"dtype\": \"number\",\n        \"std\": 0,\n        \"min\": 0,\n        \"max\": 1,\n        \"num_unique_values\": 2,\n        \"samples\": [\n          0,\n          1\n        ],\n        \"semantic_type\": \"\",\n        \"description\": \"\"\n      }\n    },\n    {\n      \"column\": \"PronomOfRec\",\n      \"properties\": {\n        \"dtype\": \"category\",\n        \"num_unique_values\": 2,\n        \"samples\": [\n          \"nonpronominal\",\n          \"pronominal\"\n        ],\n        \"semantic_type\": \"\",\n        \"description\": \"\"\n      }\n    },\n    {\n      \"column\": \"RecPro\",\n      \"properties\": {\n        \"dtype\": \"number\",\n        \"std\": 0,\n        \"min\": 0,\n        \"max\": 1,\n        \"num_unique_values\": 2,\n        \"samples\": [\n          0,\n          1\n        ],\n        \"semantic_type\": \"\",\n        \"description\": \"\"\n      }\n    },\n    {\n      \"column\": \"ThemePro\",\n      \"properties\": {\n        \"dtype\": \"number\",\n        \"std\": 0,\n        \"min\": 0,\n        \"max\": 1,\n        \"num_unique_values\": 2,\n        \"samples\": [\n          1,\n          0\n        ],\n        \"semantic_type\": \"\",\n        \"description\": \"\"\n      }\n    }\n  ]\n}"
            }
          },
          "metadata": {},
          "execution_count": 46
        }
      ]
    },
    {
      "cell_type": "markdown",
      "metadata": {
        "id": "u7znvcbCvR0C"
      },
      "source": [
        "To capture the possibility of an overall preference for one construction or the other, we add an \"intercept\" term to the logistic regression model, by creating a new `Dummy` variable in the data frame.  We then fit a baseline model using only the intercept and find that there is an overall majority preference for the **DO** realization in this dataset (the intercept's fitted weight is greater than 0).  We also see that the intercept-only model simply recapitulates the sample mean."
      ]
    },
    {
      "cell_type": "code",
      "metadata": {
        "id": "YpvJACuByZkG",
        "colab": {
          "base_uri": "https://localhost:8080/"
        },
        "outputId": "f91a60f4-fc95-4f24-f731-97691677f727"
      },
      "source": [
        "dat[\"Dummy\"] = 1\n",
        "x = dat[[\"Dummy\"]]\n",
        "y = dat[[\"Response\"]]\n",
        "m = sm.GLM(y,x,family=sm.families.Binomial()) # first argument is response, second argument is predictor matrix, third argument says this is logistic regression\n",
        "m_results = m.fit()\n",
        "print(m_results.summary())\n",
        "print(\"Predicted proportion of DO outcomes based on fitted intercept-only model:\", round(np.mean(m_results.predict(x)),4))\n",
        "print(\"Proportion of data with DO outcome:\", round(np.mean(y[\"Response\"]),4)) # same as model-predicted proportion"
      ],
      "execution_count": null,
      "outputs": [
        {
          "output_type": "stream",
          "name": "stdout",
          "text": [
            "                 Generalized Linear Model Regression Results                  \n",
            "==============================================================================\n",
            "Dep. Variable:               Response   No. Observations:                 3263\n",
            "Model:                            GLM   Df Residuals:                     3262\n",
            "Model Family:                Binomial   Df Model:                            0\n",
            "Link Function:                  Logit   Scale:                          1.0000\n",
            "Method:                          IRLS   Log-Likelihood:                -1870.5\n",
            "Date:                Fri, 09 May 2025   Deviance:                       3741.1\n",
            "Time:                        08:21:29   Pearson chi2:                 3.26e+03\n",
            "No. Iterations:                     4   Pseudo R-squ. (CS):         -2.220e-16\n",
            "Covariance Type:            nonrobust                                         \n",
            "==============================================================================\n",
            "                 coef    std err          z      P>|z|      [0.025      0.975]\n",
            "------------------------------------------------------------------------------\n",
            "Dummy          1.0450      0.040     26.189      0.000       0.967       1.123\n",
            "==============================================================================\n",
            "Predicted proportion of DO outcomes based on fitted intercept-only model: 0.7398\n",
            "Proportion of data with DO outcome: 0.7398\n"
          ]
        }
      ]
    },
    {
      "cell_type": "markdown",
      "metadata": {
        "id": "YQ6S1s-q5OmN"
      },
      "source": [
        "**Task:** In the below code boxes, complete the five parts of the problem specified in the pset PDF."
      ]
    },
    {
      "cell_type": "code",
      "metadata": {
        "id": "_6GDaqgf5acP"
      },
      "source": [
        "from sklearn.model_selection import train_test_split\n",
        "from sklearn.metrics import accuracy_score, log_loss\n",
        "\n",
        "X = dat[[\"RecPro\",\"Dummy\"]]\n",
        "y = dat[\"Response\"]\n",
        "\n",
        "X_train, X_test, y_train, y_test = train_test_split(X, y, test_size=0.2, random_state=42)\n"
      ],
      "execution_count": null,
      "outputs": []
    },
    {
      "cell_type": "code",
      "metadata": {
        "id": "rRmx1U6T5fCq",
        "colab": {
          "base_uri": "https://localhost:8080/"
        },
        "outputId": "aa89785e-4803-4d78-b66d-3b63adcfbdfa"
      },
      "source": [
        "model = sm.GLM(y_train, X_train, family=sm.families.Binomial())\n",
        "results = model.fit()\n",
        "\n",
        "y_pred_proba = results.predict(X_test)\n",
        "y_pred_class = [1 if p > 0.5 else 0 for p in y_pred_proba]\n",
        "\n",
        "accuracy = accuracy_score(y_test, y_pred_class)\n",
        "print(\"Classification accuracy on test set:\", round(accuracy, 4))\n",
        "\n",
        "log_likelihood = -log_loss(y_test, y_pred_proba, normalize=False)\n",
        "print(\"Log-likelihood on test set:\", round(log_likelihood, 4))"
      ],
      "execution_count": null,
      "outputs": [
        {
          "output_type": "stream",
          "name": "stdout",
          "text": [
            "Classification accuracy on test set: 0.709\n",
            "Log-likelihood on test set: -315.5161\n"
          ]
        }
      ]
    },
    {
      "cell_type": "markdown",
      "metadata": {
        "id": "yCD_QCME5wMC"
      },
      "source": [
        "There is a small improvement in the accuracy and a larger improvement in the log likelihood"
      ]
    },
    {
      "cell_type": "code",
      "metadata": {
        "id": "twh2LYAH5o3e",
        "colab": {
          "base_uri": "https://localhost:8080/"
        },
        "outputId": "dd85fc30-8971-4930-c883-741aa6b21bf1"
      },
      "source": [
        "X2 = dat[[\"RecPro\", \"ThemePro\",\"Dummy\"]]\n",
        "y = dat[\"Response\"]\n",
        "X2_train, X2_test, y_train, y_test = train_test_split(X2, y, test_size=0.2, random_state=42)\n",
        "\n",
        "model2 = sm.GLM(y_train, X2_train, family=sm.families.Binomial())\n",
        "results2 = model2.fit()\n",
        "\n",
        "y_pred_proba2 = results2.predict(X2_test)\n",
        "y_pred_class2 = [1 if p > 0.5 else 0 for p in y_pred_proba2]\n",
        "\n",
        "accuracy2 = accuracy_score(y_test, y_pred_class2)\n",
        "print(\"Classification accuracy with RecPro + ThemePro:\", round(accuracy2, 4))\n",
        "\n",
        "log_likelihood2 = -log_loss(y_test, y_pred_proba2, normalize=False)\n",
        "print(\"Log-likelihood with RecPro + ThemePro:\", round(log_likelihood2, 4))\n"
      ],
      "execution_count": null,
      "outputs": [
        {
          "output_type": "stream",
          "name": "stdout",
          "text": [
            "Classification accuracy with RecPro + ThemePro: 0.7795\n",
            "Log-likelihood with RecPro + ThemePro: -259.1616\n"
          ]
        }
      ]
    },
    {
      "cell_type": "markdown",
      "metadata": {
        "id": "qA32BcSw556_"
      },
      "source": [
        "With the additional methods we get an increase in both accuracy and log-likelyhood scores."
      ]
    },
    {
      "cell_type": "code",
      "metadata": {
        "id": "3kIotCu357vw",
        "colab": {
          "base_uri": "https://localhost:8080/"
        },
        "outputId": "93c53e8e-1e95-4544-b8be-8c753dc08b7d"
      },
      "source": [
        "dat[\"LogRecLen\"] = np.log(dat[\"LengthOfRecipient\"] )\n",
        "dat[\"LogThemeLen\"] = np.log(dat[\"LengthOfTheme\"] )\n",
        "\n",
        "X_raw = dat[[\"RecPro\", \"ThemePro\", \"LengthOfRecipient\", \"LengthOfTheme\",\"Dummy\"]]\n",
        "y = dat[\"Response\"]\n",
        "X_train_raw, X_test_raw, y_train, y_test = train_test_split(X_raw, y, test_size=0.2, random_state=42)\n",
        "\n",
        "model_raw = sm.GLM(y_train, X_train_raw, family=sm.families.Binomial())\n",
        "results_raw = model_raw.fit()\n",
        "\n",
        "y_pred_proba_raw = results_raw.predict(X_test_raw)\n",
        "y_pred_class_raw = [1 if p > 0.5 else 0 for p in y_pred_proba_raw]\n",
        "\n",
        "acc_raw = accuracy_score(y_test, y_pred_class_raw)\n",
        "ll_raw = -log_loss(y_test, y_pred_proba_raw, normalize=False)\n",
        "\n",
        "\n",
        "X_log = dat[[\"RecPro\", \"ThemePro\", \"LogRecLen\", \"LogThemeLen\",\"Dummy\"]]\n",
        "X_train_log, X_test_log, _, _ = train_test_split(X_log, y, test_size=0.2, random_state=42)\n",
        "\n",
        "model_log = sm.GLM(y_train, X_train_log, family=sm.families.Binomial())\n",
        "results_log = model_log.fit()\n",
        "\n",
        "y_pred_proba_log = results_log.predict(X_test_log)\n",
        "y_pred_class_log = [1 if p > 0.5 else 0 for p in y_pred_proba_log]\n",
        "\n",
        "acc_log = accuracy_score(y_test, y_pred_class_log)\n",
        "ll_log = -log_loss(y_test, y_pred_proba_log, normalize=False)\n",
        "\n",
        "print(\"Model A - Raw Lengths:\")\n",
        "print(\"  Accuracy:\", round(acc_raw, 4))\n",
        "print(\"  Log-likelihood:\", round(ll_raw, 4))\n",
        "\n",
        "print(\"\\nModel B - Log-transformed Lengths:\")\n",
        "print(\"  Accuracy:\", round(acc_log, 4))\n",
        "print(\"  Log-likelihood:\", round(ll_log, 4))\n",
        "\n"
      ],
      "execution_count": null,
      "outputs": [
        {
          "output_type": "stream",
          "name": "stdout",
          "text": [
            "Model A - Raw Lengths:\n",
            "  Accuracy: 0.8469\n",
            "  Log-likelihood: -212.5366\n",
            "\n",
            "Model B - Log-transformed Lengths:\n",
            "  Accuracy: 0.8453\n",
            "  Log-likelihood: -213.91\n"
          ]
        }
      ]
    },
    {
      "cell_type": "markdown",
      "metadata": {
        "id": "gtf3VvLJ6EoM"
      },
      "source": [
        "After comparing the accuracy and log-likelihood of the models, it appears that including length information improves both metrics relative to models that omit it. This suggests that the lengths of the recipient and theme are meaningfully correlated with the choice of dative construction. However, the difference between using raw lengths and their logarithmic transformations is minimal. The accuracy remains nearly unchanged, and the slight difference in log-likelihood could easily be attributed to random variation or dataset-specific bias. As a result, it's difficult to draw a strong conclusion about whether one transformation is truly better than the other.\n",
        "\n"
      ]
    },
    {
      "cell_type": "code",
      "source": [
        "print(results_log.summary())\n"
      ],
      "metadata": {
        "colab": {
          "base_uri": "https://localhost:8080/"
        },
        "id": "jV88RDCgIEEk",
        "outputId": "ecc63102-fb78-4862-dcaf-38f97dd37a96"
      },
      "execution_count": null,
      "outputs": [
        {
          "output_type": "stream",
          "name": "stdout",
          "text": [
            "                 Generalized Linear Model Regression Results                  \n",
            "==============================================================================\n",
            "Dep. Variable:               Response   No. Observations:                 2610\n",
            "Model:                            GLM   Df Residuals:                     2605\n",
            "Model Family:                Binomial   Df Model:                            4\n",
            "Link Function:                  Logit   Scale:                          1.0000\n",
            "Method:                          IRLS   Log-Likelihood:                -896.01\n",
            "Date:                Fri, 09 May 2025   Deviance:                       1792.0\n",
            "Time:                        08:21:29   Pearson chi2:                 2.78e+03\n",
            "No. Iterations:                     6   Pseudo R-squ. (CS):             0.3721\n",
            "Covariance Type:            nonrobust                                         \n",
            "===============================================================================\n",
            "                  coef    std err          z      P>|z|      [0.025      0.975]\n",
            "-------------------------------------------------------------------------------\n",
            "RecPro          2.0559      0.175     11.776      0.000       1.714       2.398\n",
            "ThemePro       -2.3393      0.172    -13.620      0.000      -2.676      -2.003\n",
            "LogRecLen      -1.3966      0.127    -10.970      0.000      -1.646      -1.147\n",
            "LogThemeLen     1.0479      0.088     11.953      0.000       0.876       1.220\n",
            "Dummy           0.0238      0.161      0.148      0.882      -0.291       0.339\n",
            "===============================================================================\n"
          ]
        }
      ]
    },
    {
      "cell_type": "markdown",
      "metadata": {
        "id": "8CYPF5tc6JJE"
      },
      "source": [
        "To understand the impact of each feature on the model's predictions, it is useful to examine the sign of the coefficients. This indicates how an increase in a given predictor affects the likelihood of the outcome. For example, the feature RecPro has a positive coefficient, suggesting that a higher degree of recipient pronominality is associated with an increased likelihood of the response. Similarly, the length of the theme also shows a positive effect. In contrast, features like ThemePro and LogLengthOfRecipient, which have negative coefficients, are associated with a decreased likelihood of the response."
      ]
    },
    {
      "cell_type": "code",
      "source": [
        "dat[\"RelLengthDiff\"] = dat[\"LogRecLen\"] - dat[\"LogThemeLen\"]\n",
        "\n",
        "X_rel = dat[[\"RecPro\", \"ThemePro\", \"RelLengthDiff\", \"Dummy\"]]\n",
        "\n",
        "X_train_rel, X_test_rel, y_train, y_test = train_test_split(X_rel, y, test_size=0.2, random_state=42)\n",
        "\n",
        "model_rel = sm.GLM(y_train, X_train_rel, family=sm.families.Binomial())\n",
        "results_rel = model_rel.fit()\n",
        "\n",
        "y_pred_proba_rel = results_rel.predict(X_test_rel)\n",
        "y_pred_class_rel = [1 if p > 0.5 else 0 for p in y_pred_proba_rel]\n",
        "\n",
        "acc_rel = accuracy_score(y_test, y_pred_class_rel)\n",
        "ll_rel = -log_loss(y_test, y_pred_proba_rel, normalize=False)\n",
        "\n",
        "print(\"Model C - Relative Length Difference:\")\n",
        "print(\"  Accuracy:\", round(acc_rel, 4))\n",
        "print(\"  Log-likelihood:\", round(ll_rel, 4))\n"
      ],
      "metadata": {
        "colab": {
          "base_uri": "https://localhost:8080/"
        },
        "id": "aE5n2uq_JJu_",
        "outputId": "5d42a056-ee73-4598-df6e-89dabd5a4786"
      },
      "execution_count": null,
      "outputs": [
        {
          "output_type": "stream",
          "name": "stdout",
          "text": [
            "Model C - Relative Length Difference:\n",
            "  Accuracy: 0.8407\n",
            "  Log-likelihood: -216.0483\n"
          ]
        }
      ]
    },
    {
      "cell_type": "markdown",
      "source": [
        "We were able to simplify the model by combing the two length features into one feature which is the diffrence between the two. By doing this we are able to retain the same level of accuracy but with a simplier model with less feaut"
      ],
      "metadata": {
        "id": "uyh5RkjFJ3Wh"
      }
    },
    {
      "cell_type": "markdown",
      "metadata": {
        "id": "J7fT_576DVod"
      },
      "source": [
        "##2) Word embeddings\n",
        "\n",
        "The below code and text are for the second problem on the pset.  Note that the second code chunk will take several minutes to run, but only needs to be run once, which will download the GLoVe vectors and save them on your Google drive in a new folder named *096222-pset-3* (about 1GB for the glove.6B.zip dataset). When done with the pset you may delete the files to free up space."
      ]
    },
    {
      "cell_type": "code",
      "metadata": {
        "id": "T-vyz0iEETfC",
        "colab": {
          "base_uri": "https://localhost:8080/"
        },
        "outputId": "1c6aa499-281a-487a-bfd9-198dba56173e"
      },
      "source": [
        "from google.colab import drive\n",
        "drive.mount('/content/gdrive')\n",
        "GDRIVE_DIR = \"/content/gdrive/My Drive/096222-pset-3\""
      ],
      "execution_count": null,
      "outputs": [
        {
          "output_type": "stream",
          "name": "stdout",
          "text": [
            "Mounted at /content/gdrive\n"
          ]
        }
      ]
    },
    {
      "cell_type": "code",
      "metadata": {
        "id": "p3Q3B1NvEYbp",
        "colab": {
          "base_uri": "https://localhost:8080/"
        },
        "outputId": "3009fbe7-e4bf-4d3f-ccb9-28d461355731"
      },
      "source": [
        "# This code chunk needs to be run only the first time through the pset.\n",
        "# It downloads the GLoVe word embeddings and saves them to your Google drive.\n",
        "!time wget http://nlp.stanford.edu/data/glove.6B.zip\n",
        "!unzip glove.6B.zip\n",
        "!mkdir -p \"$GDRIVE_DIR\"\n",
        "!mv glove.6B.300d.txt \"$GDRIVE_DIR/\""
      ],
      "execution_count": null,
      "outputs": [
        {
          "output_type": "stream",
          "name": "stdout",
          "text": [
            "--2025-05-09 08:29:40--  http://nlp.stanford.edu/data/glove.6B.zip\n",
            "Resolving nlp.stanford.edu (nlp.stanford.edu)... 171.64.67.140\n",
            "Connecting to nlp.stanford.edu (nlp.stanford.edu)|171.64.67.140|:80... connected.\n",
            "HTTP request sent, awaiting response... 302 Found\n",
            "Location: https://nlp.stanford.edu/data/glove.6B.zip [following]\n",
            "--2025-05-09 08:29:41--  https://nlp.stanford.edu/data/glove.6B.zip\n",
            "Connecting to nlp.stanford.edu (nlp.stanford.edu)|171.64.67.140|:443... connected.\n",
            "HTTP request sent, awaiting response... 301 Moved Permanently\n",
            "Location: https://downloads.cs.stanford.edu/nlp/data/glove.6B.zip [following]\n",
            "--2025-05-09 08:29:41--  https://downloads.cs.stanford.edu/nlp/data/glove.6B.zip\n",
            "Resolving downloads.cs.stanford.edu (downloads.cs.stanford.edu)... 171.64.64.22\n",
            "Connecting to downloads.cs.stanford.edu (downloads.cs.stanford.edu)|171.64.64.22|:443... connected.\n",
            "HTTP request sent, awaiting response... 200 OK\n",
            "Length: 862182613 (822M) [application/zip]\n",
            "Saving to: ‘glove.6B.zip’\n",
            "\n",
            "glove.6B.zip        100%[===================>] 822.24M  1.99MB/s    in 12m 56s \n",
            "\n",
            "2025-05-09 08:42:38 (1.06 MB/s) - ‘glove.6B.zip’ saved [862182613/862182613]\n",
            "\n",
            "\n",
            "real\t12m57.341s\n",
            "user\t0m4.942s\n",
            "sys\t0m10.399s\n",
            "Archive:  glove.6B.zip\n",
            "  inflating: glove.6B.50d.txt        \n",
            "  inflating: glove.6B.100d.txt       \n",
            "  inflating: glove.6B.200d.txt       \n",
            "  inflating: glove.6B.300d.txt       \n"
          ]
        }
      ]
    },
    {
      "cell_type": "code",
      "metadata": {
        "id": "r-TOpPuEFz88"
      },
      "source": [
        "import sys\n",
        "import numpy\n",
        "\n",
        "def read_vectors_from_file(filename):\n",
        "    d = {}\n",
        "    with open(filename, 'rt') as infile:\n",
        "        for line in infile:\n",
        "            word, *rest = line.split()\n",
        "            d[word] = numpy.array(list(map(float, rest)))\n",
        "    return d\n",
        "\n",
        "e = read_vectors_from_file(GDRIVE_DIR + \"/glove.6B.300d.txt\")"
      ],
      "execution_count": null,
      "outputs": []
    },
    {
      "cell_type": "code",
      "metadata": {
        "id": "3LesBcv53ffW",
        "colab": {
          "base_uri": "https://localhost:8080/"
        },
        "outputId": "dfcb2cc2-d556-4444-ad6f-4682292ef592"
      },
      "source": [
        "e['apples']"
      ],
      "execution_count": null,
      "outputs": [
        {
          "output_type": "execute_result",
          "data": {
            "text/plain": [
              "array([-0.17994  ,  0.076623 ,  0.15722  , -0.22001  , -0.018468 ,\n",
              "       -0.23543  ,  0.066769 ,  0.31273  ,  0.13766  , -0.10719  ,\n",
              "        0.042323 , -0.22365  ,  0.15889  , -0.13794  ,  0.018843 ,\n",
              "        0.26975  , -0.53504  , -0.54033  ,  0.013745 ,  0.27357  ,\n",
              "       -0.37072  ,  0.25398  ,  0.25217  ,  0.20234  ,  0.031093 ,\n",
              "       -0.55085  , -0.93268  , -0.064355 ,  0.073996 , -0.28748  ,\n",
              "       -0.73238  ,  0.038759 , -0.23089  , -0.35184  , -0.40089  ,\n",
              "        0.15194  ,  0.083998 ,  0.3137   , -0.80714  , -0.4338   ,\n",
              "        0.66056  , -0.28821  , -0.11314  , -0.0079687,  0.28257  ,\n",
              "       -0.047495 , -0.63175  ,  0.29189  ,  0.0064372,  0.57836  ,\n",
              "       -0.053689 , -0.31578  , -0.078192 , -0.39074  , -1.0015   ,\n",
              "       -0.65737  , -0.30738  , -0.26731  , -0.18491  ,  0.067175 ,\n",
              "        0.14621  , -0.013356 , -0.18675  ,  0.28284  , -0.18525  ,\n",
              "       -0.075742 , -0.16288  ,  0.12174  , -0.54502  ,  0.10662  ,\n",
              "        0.086968 , -0.04665  , -0.20161  ,  0.053088 , -1.0036   ,\n",
              "       -0.13441  ,  0.81115  ,  0.016895 ,  0.027232 , -0.31431  ,\n",
              "       -0.66949  ,  0.085227 ,  0.30046  , -0.17164  ,  0.10544  ,\n",
              "       -0.22445  , -0.60275  ,  0.23061  , -0.047089 , -0.58511  ,\n",
              "        0.44815  , -0.074066 , -0.14275  , -0.15313  , -0.63952  ,\n",
              "       -0.094444 , -0.21364  ,  0.087407 , -0.17284  ,  0.56991  ,\n",
              "        0.071645 ,  0.011137 ,  0.2267   , -0.71376  , -0.96206  ,\n",
              "       -0.19973  ,  0.014132 ,  0.23701  , -0.35592  ,  0.13589  ,\n",
              "        0.24791  ,  0.13386  ,  0.29055  , -0.55914  ,  0.44929  ,\n",
              "       -0.21718  , -0.42051  ,  0.95901  ,  0.48805  , -0.006123 ,\n",
              "        0.047679 , -0.67585  , -0.50386  ,  0.41547  , -0.95469  ,\n",
              "        0.1084   , -0.13225  ,  0.81998  , -0.39     ,  0.29343  ,\n",
              "       -0.51845  ,  0.90005  ,  0.8312   ,  0.35276  ,  0.076735 ,\n",
              "       -0.070346 ,  0.14675  ,  0.22855  , -0.3421   ,  0.34676  ,\n",
              "        0.56451  ,  0.68692  , -0.43837  , -0.44616  ,  0.6452   ,\n",
              "       -0.31362  ,  0.24     , -0.39258  ,  0.74207  , -0.37836  ,\n",
              "       -0.92141  , -0.024509 ,  0.46447  , -0.11092  , -0.72349  ,\n",
              "       -0.13231  , -0.446    , -0.025783 ,  0.087329 , -0.018828 ,\n",
              "        0.10109  ,  0.40279  ,  0.4081   , -0.45704  ,  0.61521  ,\n",
              "        0.20585  ,  0.24611  , -0.47398  ,  0.31816  , -0.32364  ,\n",
              "       -0.8207   , -0.0055949, -0.10262  , -0.056061 ,  0.32711  ,\n",
              "       -0.32271  ,  0.69101  , -0.017224 ,  0.092357 , -0.44683  ,\n",
              "        0.19494  ,  0.081131 ,  0.36321  , -0.33085  ,  0.075969 ,\n",
              "       -0.34788  ,  1.314    , -0.52115  ,  0.64394  ,  0.28914  ,\n",
              "       -0.41288  ,  1.1367   , -0.093191 , -0.38916  , -0.66092  ,\n",
              "       -0.33191  ,  0.091428 ,  0.11462  , -0.29782  , -0.18357  ,\n",
              "        0.43218  , -0.38981  ,  0.20815  , -0.1044   , -0.12044  ,\n",
              "        0.1654   ,  0.54256  ,  0.85342  ,  0.54981  , -0.47756  ,\n",
              "        0.14017  ,  0.17094  , -0.1258   ,  0.26912  , -0.25852  ,\n",
              "       -0.75258  ,  1.051    ,  0.20071  , -0.19395  , -0.46276  ,\n",
              "        0.66577  ,  0.076325 , -0.45036  ,  0.15611  , -0.54071  ,\n",
              "        0.5769   ,  0.22945  ,  0.3742   ,  0.257    ,  0.21808  ,\n",
              "       -0.1865   ,  0.05094  , -0.068712 , -0.24761  ,  0.35928  ,\n",
              "        0.62262  ,  0.1641   , -0.19284  ,  0.084023 , -0.39765  ,\n",
              "       -0.64286  , -0.16724  , -0.47489  ,  0.30388  , -0.65713  ,\n",
              "        0.10427  , -0.32936  ,  0.49474  , -0.44321  , -0.39947  ,\n",
              "        0.5853   ,  0.61492  , -0.69749  ,  0.18777  ,  0.39172  ,\n",
              "        0.1848   , -0.61889  ,  0.22717  ,  0.26755  , -0.15587  ,\n",
              "        0.11458  , -0.34497  ,  0.086328 , -0.27064  ,  0.54732  ,\n",
              "        0.075819 ,  0.01787  , -0.57434  ,  0.06019  ,  0.28917  ,\n",
              "       -0.43404  ,  0.84522  , -0.18297  ,  0.37544  , -0.073685 ,\n",
              "       -0.14497  , -0.88175  , -0.33445  , -0.71079  , -0.5085   ,\n",
              "       -0.069451 , -0.18155  , -0.41812  ,  0.10961  ,  0.34082  ,\n",
              "        0.42849  ,  0.49135  ,  0.24293  ,  0.26177  ,  0.42277  ,\n",
              "        0.41787  , -0.24921  ,  0.5677   ,  0.080152 , -0.11313  ,\n",
              "       -0.53238  , -0.4329   ,  0.16515  ,  0.29339  ,  0.045954 ])"
            ]
          },
          "metadata": {},
          "execution_count": 4
        }
      ]
    },
    {
      "cell_type": "markdown",
      "metadata": {
        "id": "K2cpFlNf40bv"
      },
      "source": [
        "### Implement and test the cosine measure of word similarity."
      ]
    },
    {
      "cell_type": "code",
      "metadata": {
        "id": "dz9GTey-2xxl",
        "colab": {
          "base_uri": "https://localhost:8080/"
        },
        "outputId": "46e46098-ec64-466d-d5d6-c66b25ace16a"
      },
      "source": [
        "## Write a function to compute the cosine similarity between two word vectors.\n",
        "##       Demonstrate that it's symmetric with a few examples.\n",
        "import numpy as np\n",
        "import random\n",
        "def cosine_similarity(x: np.ndarray, y: np.ndarray) -> float:\n",
        "    return np.dot(x, y) / (np.linalg.norm(x) * np.linalg.norm(y))\n",
        "\n",
        "def verify(x):\n",
        "  if x:\n",
        "    print(\"Verified\")\n",
        "  else:\n",
        "    print(\"Failure to verify\")\n",
        "\n",
        "def get_vec(word: str):\n",
        "    return e[word.lower()]\n",
        "\n",
        "## Use some examples to demonstrate symmetry of your implementation.\n",
        "verify(cosine_similarity(e['apples'],e['oranges'])==cosine_similarity(e['oranges'],e['apples']))\n",
        "\n",
        "## TODO: add a few more examples here.\n",
        "def verify_symmetry_random_samples(embedding_dict, n_samples=5, seed=42):\n",
        "    random.seed(seed)\n",
        "    words = list(embedding_dict.keys())\n",
        "\n",
        "    for _ in range(n_samples):\n",
        "        w1, w2 = random.sample(words, 2)\n",
        "        w1, w2 = w1.lower(), w2.lower()\n",
        "        sim1 = cosine_similarity(embedding_dict[w1], embedding_dict[w2])\n",
        "        sim2 = cosine_similarity(embedding_dict[w2], embedding_dict[w1])\n",
        "        symmetric = np.isclose(sim1, sim2, atol=1e-6)\n",
        "        print(f\"Testing: {w1} <-> {w2} | sim1: {sim1:.6f}, sim2: {sim2:.6f}\")\n",
        "        verify(symmetric)\n",
        "\n",
        "# Example usage\n",
        "verify_symmetry_random_samples(e, n_samples=5)\n"
      ],
      "execution_count": null,
      "outputs": [
        {
          "output_type": "stream",
          "name": "stdout",
          "text": [
            "Verified\n",
            "Testing: milupa <-> kitschy | sim1: 0.187226, sim2: 0.187226\n",
            "Verified\n",
            "Testing: lobbied <-> machesney | sim1: 0.049747, sim2: 0.049747\n",
            "Verified\n",
            "Testing: frodsham <-> legija | sim1: 0.077883, sim2: 0.077883\n",
            "Verified\n",
            "Testing: novodevichy <-> 5:40 | sim1: 0.067998, sim2: 0.067998\n",
            "Verified\n",
            "Testing: aqrab <-> conjuring | sim1: 0.060273, sim2: 0.060273\n",
            "Verified\n"
          ]
        }
      ]
    },
    {
      "cell_type": "code",
      "metadata": {
        "id": "gVUx_vL327YX",
        "colab": {
          "base_uri": "https://localhost:8080/"
        },
        "outputId": "5f8a5e38-137e-4d9d-95c6-2b52e16cfc32"
      },
      "source": [
        "## Verify the sanity checks in part 1b of the pset PDF.\n",
        "verify(cosine_similarity(e['car'],e['truck']) > cosine_similarity(e['car'],e['person']))\n",
        "verify(cosine_similarity(get_vec('Mars'), get_vec('Venus')) > cosine_similarity(get_vec('Mars'), get_vec('goes')))\n",
        "verify(cosine_similarity(e['warm'],e['cool']) > cosine_similarity(e['warm'],e['yesterday']))\n",
        "verify(cosine_similarity(e['red'],e['blue']) > cosine_similarity(e['red'],e['fast']))\n"
      ],
      "execution_count": null,
      "outputs": [
        {
          "output_type": "stream",
          "name": "stdout",
          "text": [
            "Verified\n",
            "Verified\n",
            "Verified\n",
            "Verified\n"
          ]
        }
      ]
    },
    {
      "cell_type": "code",
      "source": [
        "## TODO: come up with two examples that demonstrate correct similarity relations.\n",
        "ex1 = cosine_similarity(e['happy'], e['joyful']) - cosine_similarity(e['happy'], e['extravaganza'])\n",
        "ex2 = cosine_similarity(e['car'],e['truck']) - cosine_similarity(e['car'],e['plane'])\n",
        "print(ex1)\n",
        "print(ex2)\n"
      ],
      "metadata": {
        "id": "APqsAKrk57al",
        "colab": {
          "base_uri": "https://localhost:8080/"
        },
        "outputId": "5adfb0d5-29d9-4c27-9779-fea9f9873782"
      },
      "execution_count": null,
      "outputs": [
        {
          "output_type": "stream",
          "name": "stdout",
          "text": [
            "0.4009532124354801\n",
            "0.3535405383847291\n"
          ]
        }
      ]
    },
    {
      "cell_type": "code",
      "source": [
        "## TODO: come up with two examples where cosine similarity doesn't align with your intuitions about word similarity.\n",
        "ex1 = cosine_similarity(e['good'], e['bad'])\n",
        "print(\"Similarity between 'good' and 'bad':\", ex1)\n",
        "# although they are opposites but the score makes it seem like they are similar\n",
        "\n",
        "ex2 = cosine_similarity(e['music'], e['school'])\n",
        "print(\"Similarity between 'music' and 'school':\", ex2)\n",
        "# music is an art which is tought at an institution usually and not school"
      ],
      "metadata": {
        "id": "-3jPqWnc58jD",
        "colab": {
          "base_uri": "https://localhost:8080/"
        },
        "outputId": "9987fa98-25fa-4424-8b9e-91ffab258782"
      },
      "execution_count": null,
      "outputs": [
        {
          "output_type": "stream",
          "name": "stdout",
          "text": [
            "Similarity between 'good' and 'bad': 0.6445219528985229\n",
            "Similarity between 'music' and 'school': 0.3566487749272439\n"
          ]
        }
      ]
    },
    {
      "cell_type": "code",
      "source": [
        "def l2_distance(x: np.ndarray, y: np.ndarray) -> float:\n",
        "    return np.linalg.norm(x - y)\n",
        "\n",
        "# Symmetry check: L2 distance should also be symmetric\n",
        "def verify_l2_symmetry_random_samples(embedding_dict, n_samples=5, seed=42):\n",
        "    random.seed(seed)\n",
        "    words = list(embedding_dict.keys())\n",
        "\n",
        "    for _ in range(n_samples):\n",
        "        w1, w2 = random.sample(words, 2)\n",
        "        w1, w2 = w1.lower(), w2.lower()\n",
        "        dist1 = l2_distance(embedding_dict[w1], embedding_dict[w2])\n",
        "        dist2 = l2_distance(embedding_dict[w2], embedding_dict[w1])\n",
        "        symmetric = np.isclose(dist1, dist2, atol=1e-6)\n",
        "        print(f\"Testing: {w1} <-> {w2} | dist1: {dist1:.6f}, dist2: {dist2:.6f}\")\n",
        "        verify(symmetric)\n",
        "\n",
        "verify(l2_distance(e['apples'], e['oranges']) == l2_distance(e['oranges'], e['apples']))\n",
        "verify_l2_symmetry_random_samples(e, n_samples=3)\n",
        "\n",
        "ex1 = l2_distance(e['happy'], e['joyful']) - l2_distance(e['happy'], e['extravaganza'])\n",
        "ex2 = l2_distance(e['car'],e['truck']) - l2_distance(e['car'],e['plane'])\n",
        "print(ex1)\n",
        "print(ex2)\n",
        "ex1 = l2_distance(e['good'], e['bad'])\n",
        "print(\"Similarity between 'good' and 'bad':\", ex1)\n",
        "\n",
        "ex2 = l2_distance(e['music'], e['school'])\n",
        "print(\"Similarity between 'music' and 'school':\", ex2)\n"
      ],
      "metadata": {
        "id": "8zVgl_2059H7",
        "colab": {
          "base_uri": "https://localhost:8080/"
        },
        "outputId": "e564419e-40aa-43d8-9282-9bad06a665d4"
      },
      "execution_count": null,
      "outputs": [
        {
          "output_type": "stream",
          "name": "stdout",
          "text": [
            "Verified\n",
            "Testing: milupa <-> kitschy | dist1: 7.259872, dist2: 7.259872\n",
            "Verified\n",
            "Testing: lobbied <-> machesney | dist1: 7.793442, dist2: 7.793442\n",
            "Verified\n",
            "Testing: frodsham <-> legija | dist1: 9.850609, dist2: 9.850609\n",
            "Verified\n",
            "-1.8290120650105388\n",
            "-2.803500203276461\n",
            "Similarity between 'good' and 'bad': 4.8563294225997975\n",
            "Similarity between 'music' and 'school': 7.909756435834038\n"
          ]
        }
      ]
    },
    {
      "cell_type": "markdown",
      "source": [
        "It does quantify differently, for example looking at the cosine similarity looking at the good and bad analogy which are opposites we get ~0.664 compared to the music and school analogy which gives ~0.35 which is almost half the former analogy.\n",
        "On the other hand, with the l2 metric we get a different quantification. We also notice the pattern that the role switched meaning we see that good and bad is ~5 which almost half of the music and school analogy result of ~8.\n",
        "therefore, we conclude that the patttern changes accross different metrics used in the test suite."
      ],
      "metadata": {
        "id": "WzYoj9VKOs1i"
      }
    },
    {
      "cell_type": "markdown",
      "metadata": {
        "id": "MAssYxCH4-X-"
      },
      "source": [
        "### The analogies task\n",
        "\n",
        "Given words *w1*, *w2*, and *w3*, find a word *x* such that *w1* : *w2* :: *w3* : *x*. For example, for the analogy problem *France*:*Paris* :: *England*:*x*, the answer should be *London*. To solve analogies using semantic vectors, letting $e(w)$ indicate the embedding for a word w, calculate a vector $y$ = $e(w_2)$ − $e(w_1)$ + $e(w_3)$ and find the word whose vector is closest to $y$.\n",
        "\n",
        "**TODO:** Explain why the analogy-solving method makes sense.\n",
        "\n"
      ]
    },
    {
      "cell_type": "markdown",
      "source": [
        "It makes because in the vector space e(w1) - e(w2) is the vector approximation of the relationship that we are trying to capture ."
      ],
      "metadata": {
        "id": "O0m3SdykQAWm"
      }
    },
    {
      "cell_type": "code",
      "metadata": {
        "id": "5Q3_OdnS3AP4"
      },
      "source": [
        "def analogy_vector(w1: str, w2: str, w3: str, e: dict) -> np.ndarray:\n",
        "    v1 = e[w1.lower()]\n",
        "    v2 = e[w2.lower()]\n",
        "    v3 = e[w3.lower()]\n",
        "    return v2 - v1 + v3\n"
      ],
      "execution_count": null,
      "outputs": []
    },
    {
      "cell_type": "code",
      "metadata": {
        "id": "uZX3rqhb6CDG"
      },
      "source": [
        "def analogy(w1: str, w2: str, w3: str, e: dict, k=5):\n",
        "    y = analogy_vector(w1, w2, w3, e)\n",
        "    similarities = []\n",
        "    for word, vector in e.items():\n",
        "        sim = cosine_similarity(y, vector)\n",
        "        similarities.append((word, sim))\n",
        "\n",
        "    similarities.sort(key=lambda x: x[1], reverse=True)\n",
        "    return [word for word, _ in similarities[:k]]"
      ],
      "execution_count": null,
      "outputs": []
    },
    {
      "cell_type": "code",
      "metadata": {
        "id": "6fNpJpDc6SSU",
        "colab": {
          "base_uri": "https://localhost:8080/"
        },
        "outputId": "e6f9f925-ce34-4e23-c479-032837e8b7e3"
      },
      "source": [
        "## Are the top 5 results for the following analogies sensible?\n",
        "# not neccessarily, like man to king is not the same as king to throne\n",
        "print(analogy(\"france\",\"paris\",\"england\",e))\n",
        "print(analogy(\"man\",\"woman\",\"king\",e))\n",
        "print(analogy(\"tall\",\"taller\",\"warm\",e))\n",
        "print(analogy(\"tall\",\"short\",\"england\",e))\n",
        "\n",
        "## TODO: come up with 4 more analogies, 2 of which work in your opinion, and 2 of which don't work.\n",
        "analogies = \\\n",
        "   [\n",
        "    (\"cold\", \"colder\", \"hot\"),\n",
        "    (\"love\", \"hate\", \"friendship\"),\n",
        "    (\"king\", \"ruler\", \"queen\"),\n",
        "    (\"sun\", \"day\", \"moon\"),\n",
        "    (\"car\", \"fast\", \"bicycle\"),\n",
        "    (\"cat\", \"dog\", \"bird\"),\n",
        "    (\"hot\", \"cold\", \"summer\"),\n",
        "    (\"man\", \"woman\", \"king\"),\n",
        "    (\"rich\", \"poor\", \"doctor\")\n",
        "  ]\n",
        "\n",
        "print()\n",
        "for w1, w2, w3 in analogies:\n",
        "    print(f\"Analogy: {w1}, {w2} -> {w3}\")\n",
        "    print(analogy(w1, w2, w3, e))  # You can replace `e` with your word embedding dictionary\n",
        "    print()\n"
      ],
      "execution_count": null,
      "outputs": [
        {
          "output_type": "stream",
          "name": "stdout",
          "text": [
            "['england', 'london', 'manchester', 'birmingham', 'middlesex']\n",
            "['king', 'queen', 'monarch', 'throne', 'princess']\n",
            "['warm', 'warmer', 'warmed', 'cooler', 'drier']\n",
            "['england', 'short', 'following', 'wales', 'ireland']\n",
            "\n",
            "Analogy: cold, colder -> hot\n",
            "['hotter', 'colder', 'hot', 'drier', 'cooler']\n",
            "\n",
            "Analogy: love, hate -> friendship\n",
            "['friendship', 'hate', 'hatred', 'cooperation', 'relations']\n",
            "\n",
            "Analogy: king, ruler -> queen\n",
            "['ruler', 'queen', 'empress', 'rulers', 'monarch']\n",
            "\n",
            "Analogy: sun, day -> moon\n",
            "['day', 'moon', 'days', 'week', 'first']\n",
            "\n",
            "Analogy: car, fast -> bicycle\n",
            "['fast', 'bicycle', 'bike', 'paced', 'biking']\n",
            "\n",
            "Analogy: cat, dog -> bird\n",
            "['bird', 'flu', 'dog', 'birds', 'avian']\n",
            "\n",
            "Analogy: hot, cold -> summer\n",
            "['winter', 'summer', 'cold', 'autumn', 'spring']\n",
            "\n",
            "Analogy: man, woman -> king\n",
            "['king', 'queen', 'monarch', 'throne', 'princess']\n",
            "\n",
            "Analogy: rich, poor -> doctor\n",
            "['doctor', 'doctors', 'medical', 'physician', 'hospital']\n",
            "\n"
          ]
        }
      ]
    },
    {
      "cell_type": "markdown",
      "metadata": {
        "id": "__P1YzLM6ixs"
      },
      "source": [
        "**TODO:**\n",
        "\n",
        "1.   List item\n",
        "2.   List item\n",
        "\n",
        "\n",
        "Did you notice any patterns or generalizations while exploring possible analogies (in the next text/markdown after the following one)?  For the ones that went wrong, why do you think they went wrong?\n"
      ]
    },
    {
      "cell_type": "markdown",
      "source": [
        "Does work:\n",
        "\n",
        "Analogy: man, woman -> king ['ruler', 'queen', 'empress', 'rulers', 'monarch']\n",
        "\n",
        "man: woman is like king:queen\n",
        "\n",
        "Analogy: hot, cold -> summer ['winter', 'summer', 'cold', 'autumn', 'spring']\n",
        "\n",
        "summer:winter which is correct\n",
        "\n",
        "Doesn't work:\n",
        "\n",
        "Analogy: love, hate -> friendship ['friendship', 'hate', 'hatred', 'cooperation', 'relations']\n",
        "\n",
        " this one fails since there isn't exactly a word that is an antoynm for friendship in the top 5 results here.\n",
        "\n",
        "Analogy: car, fast -> bicycle ['fast', 'bicycle', 'bike', 'paced', 'biking']\n",
        " there isn't a word that reflects the speed of bicycle when comparing car to fast for a bicycle"
      ],
      "metadata": {
        "id": "idTzDsz-K5d3"
      }
    },
    {
      "cell_type": "markdown",
      "source": [
        "TODO: Did you notice any patterns or generalizations while exploring possible analogies?\n",
        "\n",
        "Yes, for sysnonyms and antonyms it seems that that the methodolgy that we use seems to capture the relationships well. Also captures Hierarchical relationships well.\n",
        "For example:\n",
        "Analogy: man, woman -> king\n",
        "['king', 'queen', 'monarch', 'throne', 'princess']\n",
        "\n",
        "It make a mistake by putting king first, perhaps for the following reasons: Expected Result: The expected output is \"queen\", because the analogy follows a gender-based transformation (a male ruler to a female ruler). Although we can still say it generalized well since queen is still in the top 5 results.\n",
        "\n",
        "Furthermore, when looking at man to woman and seeing the result for queen we can get results such as \"monarch\" or \"empress\", which are valid answers but don't match the exact analogy for the word queen\n",
        "\n",
        "Word Embedding Bias: Embeddings may not always focus on the gendered nature in terms in a hierarchical relationship (like \"king\" to \"queen\"). Instead, they may focus on the broader notion of rulership (e.g., \"monarch\"). This could be because the model learned that \"ruler\" or \"monarch\" represents a broader class of individuals who govern, and the gendered aspect is not as heavily weighted in the vector space. Broader Concept: The model might interpret \"king\" and \"queen\" as types of \"monarchs\" or \"empresses,\" thereby generalizing the relationship beyond just gendered terms. While this is a valid interpretation, it shows that the embedding doesn't always focus on the most expected or specific relationships."
      ],
      "metadata": {
        "id": "Qvj0UwOsK8RR"
      }
    },
    {
      "cell_type": "markdown",
      "source": [
        "##3) Using semantic vectors to decode brain activation"
      ],
      "metadata": {
        "id": "4aqU3DDs_kIv"
      }
    },
    {
      "cell_type": "markdown",
      "source": [
        "### Load the data"
      ],
      "metadata": {
        "id": "cFrD0CUr_sh3"
      }
    },
    {
      "cell_type": "code",
      "source": [
        "# Download and extract the data and learn_decoder.py\n",
        "# !wget --load-cookies /tmp/cookies.txt \"https://docs.google.com/uc?export=download&confirm=$(wget --quiet --save-cookies /tmp/cookies.txt --keep-session-cookies --no-check-certificate 'https://docs.google.com/uc?export=download&id=1xZaorRH-xxjfochvSesAhOTUg82_Xq56' -O- | sed -rn 's/.*confirm=([0-9A-Za-z_]+).*/\\1\\n/p')&id=1xZaorRH-xxjfochvSesAhOTUg82_Xq56\" -O files.zip && rm -rf /tmp/cookies.txt\n",
        "!wget --header=\"Host: drive.usercontent.google.com\" --header=\"Accept: text/html,application/xhtml+xml,application/xml;q=0.9,image/avif,image/webp,image/apng,*/*;q=0.8,application/signed-exchange;v=b3;q=0.7\" --header=\"Accept-Language: en-US,en;q=0.9,he;q=0.8\" --header=\"Cookie: HSID=AHJfxja1o67aaDDKP; SSID=AcFaYUEeiC88MwrF9; APISID=-FXvHmBvJ828Jrpq/AaIp_RI6gKwBAA-zy; SAPISID=_psqReiv0O2WdiVv/AhLpZThJtVNAPgAJP; __Secure-1PAPISID=_psqReiv0O2WdiVv/AhLpZThJtVNAPgAJP; __Secure-3PAPISID=_psqReiv0O2WdiVv/AhLpZThJtVNAPgAJP; S=billing-ui-v3=pX9aAWC8SzxQZfQvQ-0SbCFRz65PPkVY:billing-ui-v3-efe=pX9aAWC8SzxQZfQvQ-0SbCFRz65PPkVY:maestro=dsv3G-owxPD6uTATLH0lBQZNadhFo6ZKJiuB9usoQVU; __Secure-BUCKET=CPgG; SID=g.a000kggtmVDh8D92rqHe5fiG-bMoXQw7Ld8Tf_C8qHhSE2ZoFUyx_uObP_F4bCqI8I561ccGMwACgYKAWESARQSFQHGX2Mi5DnhBiJ2gjjbMSP0XJbU5BoVAUF8yKrlBjWMdNOfGnmA7TZzmbWD0076; __Secure-1PSID=g.a000kggtmVDh8D92rqHe5fiG-bMoXQw7Ld8Tf_C8qHhSE2ZoFUyx2BFINS8lXhFUyAFwuvl8CQACgYKAW4SARQSFQHGX2MiWd6bHkI0JN89-1dFZUbS2hoVAUF8yKpc-H3AD8N6tj-dmFG21SeE0076; __Secure-3PSID=g.a000kggtmVDh8D92rqHe5fiG-bMoXQw7Ld8Tf_C8qHhSE2ZoFUyxJl_TGsCsjeiVN72q3lSCWQACgYKASASARQSFQHGX2MiULluXa7aABDwxgCWjB6IyhoVAUF8yKoy_HHYLCqIFMwNjx-GwYWe0076; __Secure-ENID=20.SE=jyM_w2hA8DW6FvPOh9wudde93a0A9P41Epzo098LV_LyU79-VVcJ9K-vNLrhCLuVzi69CyV4RxlSls8AAT9J8odwIXi_ISVn8Z1U1DH52BC3YiwOwO9LKUsBesCbGx2D6u1XwZ5GIP_PZMo1tkLLJq2VCtcxRP9OtC_QgHNbAD4eyc1TTu1C8XbZLFTOIgb0k9IfM2bMBXeha6t3sJysARZWpDIzs3I8wWZ5JtABB253grtjQyCnxyy9MUgTcYAVaoEGwgVHV4V4lSY6gydFkO2gYxl7JqYloqCq74HahGK54TBlsGZIOTM_KvFAsIidcrPaVOBpH6IGQTPChxy3Tr-GLK7VpBiQ8JW7V0xC8XTN1crEaaZnGFQ6MrjDv8f3hCY0Kg; AEC=AQTF6HwEtUB747fVHMzvOWJV9pmRoGs8Ix8FJ1HTrxbE9NY1dtyro2AvNQ; NID=515=Wdt0NWZqVSh3TtdIfjXCGTCCkj7jaJjt-lkOL3hLD_hPSSMyGxKkVthECwGGFbbxmvfM2iKZ1SkPGDVgLwjghAOrV9Ya7iEJJ0eSXZSfszc0WxRXm3Jy6LxqPEZLmY8v3AIkMX-o8KE5ZRXGEzgv_s9pfgS8bmeiIGT13Iiyw9tPzRZDChGijNbZ0Mp1oF-4YKikOZCyo8Km9wXOgLAC9dbeIqAlTdER97cQ7B5GajyRLH_bFrg0lCVN4tyZEycjihHOu6Eq_V88rswgV7uvzemJ_yk4WbbIWJVm9NCO4tWdDQG8NY3EY57xAJbmIhu260jDftYwzjCnpqJ8C1iCm-FjboF6xJwKJEtLkCXagIcSWxfPGqRWIn5KY72ogAMZTlUZ5RE5F8bH4sFgkt5pW_AalY5mxYPOfZgF-9hcJYsF71rMOic6mqSfvR8iNo-k6_SZ-4o5WkYxbwdLgiaIOiCJHkhIGBoXsm5hh5BHDqlk5ERGnFn5zpqOguNLJFjXT3nhaP1g_a2fFvd0bmZw2A9Y6tBNAC7CbDOmSHSmYmLag0qVcqu286CZh5svuhdM-QPcSCt5u0kPgfWN3KBha0G9L9qCiDIwntvnlVNoUYLBM4je1bhGjO9M2tdH_vteLo4vjm9Cq-4I2A; __Secure-1PSIDTS=sidts-CjIB3EgAEi6AJoaJlu_IOdqmparuSFUne3RqD5YKK5hcqKjRlc0CTp9lSpyH2OoVVoqmlxAA; __Secure-3PSIDTS=sidts-CjIB3EgAEi6AJoaJlu_IOdqmparuSFUne3RqD5YKK5hcqKjRlc0CTp9lSpyH2OoVVoqmlxAA; SIDCC=AKEyXzW7IJ8miV8hX_pqzqqPW7--eMWuWfausspLBoDPlfZDCRZDED56ohpancLYOBPizfUzi1aM; __Secure-1PSIDCC=AKEyXzVGnmSuG07J22njRVFPQ_sk88MgnqtYxJd-M0_9Pz3jdh4GpGPhPOqCMrayTU9SJTW3n54; __Secure-3PSIDCC=AKEyXzVScJYbKdtIImPYKpTRkExsc5UhC5n9Rkk8wNFlMZNW3_xkvWlimAXWaZ4T7kTcJy5AE4I\" --header=\"Connection: keep-alive\" \"https://drive.usercontent.google.com/download?id=1xZaorRH-xxjfochvSesAhOTUg82_Xq56&export=download&authuser=0&confirm=t&uuid=efeb9ce5-a5c5-453b-938d-6c0ece963f3c&at=APZUnTV18b5mSao0MQ2JbtpefTxr%3A1719665236172\" -c -O 'files.zip'\n",
        "!unzip files.zip\n",
        "!rm files.zip"
      ],
      "metadata": {
        "id": "RwgOUIetGxAF",
        "colab": {
          "base_uri": "https://localhost:8080/"
        },
        "outputId": "61a8ebc6-0566-40fa-b8b9-30133827fe22"
      },
      "execution_count": null,
      "outputs": [
        {
          "output_type": "stream",
          "name": "stdout",
          "text": [
            "--2025-05-09 09:08:18--  https://drive.usercontent.google.com/download?id=1xZaorRH-xxjfochvSesAhOTUg82_Xq56&export=download&authuser=0&confirm=t&uuid=efeb9ce5-a5c5-453b-938d-6c0ece963f3c&at=APZUnTV18b5mSao0MQ2JbtpefTxr%3A1719665236172\n",
            "Resolving drive.usercontent.google.com (drive.usercontent.google.com)... 74.125.143.132, 2a00:1450:4013:c03::84\n",
            "Connecting to drive.usercontent.google.com (drive.usercontent.google.com)|74.125.143.132|:443... connected.\n",
            "HTTP request sent, awaiting response... 200 OK\n",
            "Length: 97708666 (93M) [application/octet-stream]\n",
            "Saving to: ‘files.zip’\n",
            "\n",
            "files.zip           100%[===================>]  93.18M  64.4MB/s    in 1.4s    \n",
            "\n",
            "2025-05-09 09:08:20 (64.4 MB/s) - ‘files.zip’ saved [97708666/97708666]\n",
            "\n",
            "Archive:  files.zip\n",
            "  inflating: stimuli_180concepts.txt  \n",
            "  inflating: learn_decoder.py        \n",
            "  inflating: vectors_180concepts.GV42B300.txt  \n",
            "  inflating: imaging_data.csv        \n"
          ]
        }
      ]
    },
    {
      "cell_type": "code",
      "source": [
        "#Let's load the functions from learn_decoder.py\n",
        "from learn_decoder import *\n",
        "\n",
        "#and the data\n",
        "data = read_matrix(\"imaging_data.csv\", sep=\",\")\n",
        "vectors = read_matrix(\"vectors_180concepts.GV42B300.txt\", sep=\" \")\n",
        "concepts = np.genfromtxt('stimuli_180concepts.txt', dtype=np.dtype('U')) #The names of the 180 concepts"
      ],
      "metadata": {
        "id": "Liosd9lWBdQI"
      },
      "execution_count": null,
      "outputs": []
    },
    {
      "cell_type": "code",
      "source": [
        "type(data)"
      ],
      "metadata": {
        "id": "CRI_G2E3jWIb",
        "colab": {
          "base_uri": "https://localhost:8080/"
        },
        "outputId": "5d404906-1330-462a-ac30-edc538181a1b"
      },
      "execution_count": null,
      "outputs": [
        {
          "output_type": "execute_result",
          "data": {
            "text/plain": [
              "numpy.ndarray"
            ]
          },
          "metadata": {},
          "execution_count": 25
        }
      ]
    },
    {
      "cell_type": "markdown",
      "source": [
        "You can verify for your self what learn_decoder consists of by going to Files and opening it."
      ],
      "metadata": {
        "id": "h8RI_ZEJEA61"
      }
    },
    {
      "cell_type": "markdown",
      "source": [
        "### What are the Accuracy scores?"
      ],
      "metadata": {
        "id": "sIWqcFzpSjNj"
      }
    },
    {
      "cell_type": "markdown",
      "source": [
        "Define a function that computes rank-based accuracy score, then, iterate over the 18 folds. For each fold,  train the decoder **using the `learn_decoder` function** (the function is already imported from `learn_decoder.py`) on the fold train data, obtain the predicions on the fold test data, and store both the accuracy score of each concept (use the labels from `concepts`) as well as the average score of the 10 concepts.  "
      ],
      "metadata": {
        "id": "xGLDercIBFSx"
      }
    },
    {
      "cell_type": "code",
      "source": [
        "import numpy as np\n",
        "from learn_decoder import read_matrix, learn_decoder\n",
        "from sklearn.metrics.pairwise import cosine_similarity\n",
        "import matplotlib.pyplot as plt\n",
        "\n",
        "def average_rank(predicted_vectors, true_vectors, test_indices):\n",
        "    similarity = cosine_similarity(predicted_vectors, vectors)\n",
        "    ranks = []\n",
        "    concept_ranks = {}\n",
        "    for i, idx in enumerate(test_indices):\n",
        "        sim = similarity[i]\n",
        "        sorted_indices = np.argsort(sim)[::-1]\n",
        "        rank = np.where(sorted_indices == idx)[0][0] + 1\n",
        "        ranks.append(rank)\n",
        "        concept_ranks[concepts[idx]] = rank\n",
        "    return np.mean(ranks), concept_ranks\n",
        "\n",
        "# Main cross-validation loop\n",
        "fold_size = 10\n",
        "k = 18\n",
        "fold_scores = []\n",
        "concept_scores = {}\n",
        "\n",
        "for i in range(k):\n",
        "    test_indices = list(range(i * fold_size, (i + 1) * fold_size))\n",
        "    train_indices = [j for j in range(180) if j not in test_indices]\n",
        "\n",
        "    data_train = data[train_indices]\n",
        "    vectors_train = vectors[train_indices]\n",
        "    data_test = data[test_indices]\n",
        "\n",
        "    # Train decoder\n",
        "    decoder = learn_decoder(data_train, vectors_train)  # V x 300\n",
        "    predicted = np.dot(data_test, decoder)  # 10 x 300\n",
        "\n",
        "    avg_rank, concept_ranks = average_rank(predicted, vectors, test_indices)\n",
        "    fold_scores.append(avg_rank)\n",
        "    concept_scores.update(concept_ranks)\n",
        "\n",
        "    print(f\"Fold {i+1} Average Rank: {avg_rank:.2f}\")\n"
      ],
      "metadata": {
        "id": "yMtlTgG5EdTb",
        "colab": {
          "base_uri": "https://localhost:8080/"
        },
        "outputId": "a9369179-d4d4-45a1-8921-b47d427b4489"
      },
      "execution_count": null,
      "outputs": [
        {
          "output_type": "stream",
          "name": "stdout",
          "text": [
            "Fold 1 Average Rank: 66.70\n",
            "Fold 2 Average Rank: 62.30\n",
            "Fold 3 Average Rank: 60.40\n",
            "Fold 4 Average Rank: 70.60\n",
            "Fold 5 Average Rank: 81.30\n",
            "Fold 6 Average Rank: 74.50\n",
            "Fold 7 Average Rank: 77.00\n",
            "Fold 8 Average Rank: 46.70\n",
            "Fold 9 Average Rank: 105.10\n",
            "Fold 10 Average Rank: 39.10\n",
            "Fold 11 Average Rank: 65.60\n",
            "Fold 12 Average Rank: 56.50\n",
            "Fold 13 Average Rank: 36.90\n",
            "Fold 14 Average Rank: 66.00\n",
            "Fold 15 Average Rank: 41.70\n",
            "Fold 16 Average Rank: 36.80\n",
            "Fold 17 Average Rank: 39.70\n",
            "Fold 18 Average Rank: 87.50\n"
          ]
        }
      ]
    },
    {
      "cell_type": "markdown",
      "source": [
        "Now let's plot the averaged accuracy score for each fold  "
      ],
      "metadata": {
        "id": "r4P3Ub86IgcB"
      }
    },
    {
      "cell_type": "code",
      "source": [
        "import matplotlib.pyplot as plt\n",
        "\n",
        "plt.figure(figsize=(10, 5))\n",
        "plt.bar(range(1, k + 1), fold_scores)\n",
        "plt.title(\"Average Rank per Fold (Lower is Better)\")\n",
        "plt.xlabel(\"Fold Number\")\n",
        "plt.ylabel(\"Average Rank\")\n",
        "plt.grid(axis='y')\n",
        "plt.xticks(range(1, k + 1))\n",
        "plt.show()\n"
      ],
      "metadata": {
        "id": "Z4HHdj5xIRnH",
        "colab": {
          "base_uri": "https://localhost:8080/",
          "height": 487
        },
        "outputId": "5e676f2f-a463-490c-dbd1-3e38815edd8c"
      },
      "execution_count": null,
      "outputs": [
        {
          "output_type": "display_data",
          "data": {
            "text/plain": [
              "<Figure size 1000x500 with 1 Axes>"
            ],
            "image/png": "[encoded data removed]"
          },
          "metadata": {}
        }
      ]
    },
    {
      "cell_type": "markdown",
      "source": [
        "### Which concepts can be decoded with more or less success?"
      ],
      "metadata": {
        "id": "Rd3N7q3k_avH"
      }
    },
    {
      "cell_type": "code",
      "source": [
        "# Summary of individual concept ranks\n",
        "sorted_concepts = sorted(concept_scores.items(), key=lambda x: x[1])\n",
        "print(\"\\nTop 5 Best Decoded Concepts:\")\n",
        "for concept, rank in sorted_concepts[:5]:\n",
        "    print(f\"{concept}: Rank {rank:.1f}\")\n",
        "\n",
        "print(\"\\nTop 5 Worst Decoded Concepts:\")\n",
        "for concept, rank in sorted_concepts[-5:]:\n",
        "    print(f\"{concept}: Rank {rank:.1f}\")"
      ],
      "metadata": {
        "id": "fAhfAbjOJCtf",
        "colab": {
          "base_uri": "https://localhost:8080/"
        },
        "outputId": "032f5cef-9e3f-483e-ff85-420c6504dea3"
      },
      "execution_count": null,
      "outputs": [
        {
          "output_type": "stream",
          "name": "stdout",
          "text": [
            "\n",
            "Top 5 Best Decoded Concepts:\n",
            "do: Rank 1.0\n",
            "food: Rank 1.0\n",
            "time: Rank 1.0\n",
            "great: Rank 2.0\n",
            "laugh: Rank 4.0\n",
            "\n",
            "Top 5 Worst Decoded Concepts:\n",
            "electron: Rank 168.0\n",
            "deceive: Rank 171.0\n",
            "applause: Rank 175.0\n",
            "cockroach: Rank 178.0\n",
            "argumentatively: Rank 180.0\n"
          ]
        }
      ]
    },
    {
      "cell_type": "markdown",
      "source": [
        "The average ranks for each fold range from 35-110:\n",
        "\n",
        "Best fold: Fold 16 with average rank 36.80\n",
        "\n",
        "Worst fold: Fold 9 with average rank 105.10\n",
        "\n",
        "Mean of all folds: Approximately 60.57\n",
        "\n",
        "This performance overall is better than chance, since random predictions would yield an average rank of approx. 90. Therefore, the decoder is learning meaningful patterns for the different concepts.\n",
        "\n",
        "We can see from the top and worst decoded concepts that more general things like food, laugh etc.. can be decoded much better since these things are probably something that the patient connects to a lot and thinks about compared to some of the worst decoded concepts like cockroach or electron which the patient probably doesn't think about as much in their real life."
      ],
      "metadata": {
        "id": "yZiN8JA_EUnS"
      }
    },
    {
      "cell_type": "markdown",
      "source": [
        "Yes, We believe that the results overall are satisfactory.\n",
        "\n",
        "Above-chance decoding: The mean rank across folds is well below what would be considered chance i.e. (90), showing that the model is able to capture the neural patterns in the brain data.\n",
        "\n",
        "Consistency: Many folds achieve ranks in the 30-60s, indicating reliable learning across different splits.\n",
        "\n",
        "Interpretable trends: High performance on concrete concepts and low on abstract ones aligns with neuroscience expectations.\n",
        "\n",
        "However, the high variance across folds (e.g., Fold 9 at 105) indicates some instability, possibly due to:\n",
        "  - Imbalanced semantic categories per fold\n",
        "\n",
        "  - Small test set (only 10 examples per fold)\n",
        "\n",
        "This could be improved with stratified sampling or/and a larger training dataset."
      ],
      "metadata": {
        "id": "ZMBoho0S_iUU"
      }
    },
    {
      "cell_type": "markdown",
      "source": [
        "# Export to PDF\n",
        "\n",
        "Run the following cell to download the notebook as a nicely formatted pdf file."
      ],
      "metadata": {
        "id": "VXelmquWxyCo"
      }
    },
    {
      "cell_type": "code",
      "source": [
        "# Add to a new cell at the end of the notebook and run the follow code,\n",
        "# which will save the notebook as pdf in your google drive (allow the permissions) and download it automatically.\n",
        "\n",
        "!wget -nc https://raw.githubusercontent.com/lacclab/096222-colab-pdf/master/colab_pdf.py\n",
        "\n",
        "from colab_pdf import colab_pdf\n",
        "\n",
        "# If you saved the notebook in the default location in your Google Drive,\n",
        "# and didn't change the name of the file, the code should work as is.\n",
        "# If not, adapt accordingly.\n",
        "\n",
        "colab_pdf(file_name='Pset_3.ipynb', notebookpath=\"/content/drive/MyDrive/Colab Notebooks/\")"
      ],
      "metadata": {
        "id": "zZusZnCCubWg",
        "colab": {
          "base_uri": "https://localhost:8080/",
          "height": 326
        },
        "outputId": "f6c255db-3a58-4d2f-c51d-394695113697"
      },
      "execution_count": null,
      "outputs": [
        {
          "output_type": "stream",
          "name": "stdout",
          "text": [
            "File ‘colab_pdf.py’ already there; not retrieving.\n",
            "\n"
          ]
        },
        {
          "output_type": "error",
          "ename": "ValueError",
          "evalue": "file 'Pset_3.ipynb' not found in path '/content/drive/MyDrive/Colab Notebooks/'.",
          "traceback": [
            "\u001b[0;31m---------------------------------------------------------------------------\u001b[0m",
            "\u001b[0;31mValueError\u001b[0m                                Traceback (most recent call last)",
            "\u001b[0;32m<ipython-input-33-c5beae41a68a>\u001b[0m in \u001b[0;36m<cell line: 0>\u001b[0;34m()\u001b[0m\n\u001b[1;32m     10\u001b[0m \u001b[0;31m# If not, adapt accordingly.\u001b[0m\u001b[0;34m\u001b[0m\u001b[0;34m\u001b[0m\u001b[0m\n\u001b[1;32m     11\u001b[0m \u001b[0;34m\u001b[0m\u001b[0m\n\u001b[0;32m---> 12\u001b[0;31m \u001b[0mcolab_pdf\u001b[0m\u001b[0;34m(\u001b[0m\u001b[0mfile_name\u001b[0m\u001b[0;34m=\u001b[0m\u001b[0;34m'Pset_3.ipynb'\u001b[0m\u001b[0;34m,\u001b[0m \u001b[0mnotebookpath\u001b[0m\u001b[0;34m=\u001b[0m\u001b[0;34m\"/content/drive/MyDrive/Colab Notebooks/\"\u001b[0m\u001b[0;34m)\u001b[0m\u001b[0;34m\u001b[0m\u001b[0;34m\u001b[0m\u001b[0m\n\u001b[0m",
            "\u001b[0;32m/content/colab_pdf.py\u001b[0m in \u001b[0;36mcolab_pdf\u001b[0;34m(file_name, notebookpath)\u001b[0m\n\u001b[1;32m     20\u001b[0m     \u001b[0;31m# Check if the notebook exists in the Drive.\u001b[0m\u001b[0;34m\u001b[0m\u001b[0;34m\u001b[0m\u001b[0m\n\u001b[1;32m     21\u001b[0m     \u001b[0;32mif\u001b[0m \u001b[0;32mnot\u001b[0m \u001b[0mos\u001b[0m\u001b[0;34m.\u001b[0m\u001b[0mpath\u001b[0m\u001b[0;34m.\u001b[0m\u001b[0misfile\u001b[0m\u001b[0;34m(\u001b[0m\u001b[0mos\u001b[0m\u001b[0;34m.\u001b[0m\u001b[0mpath\u001b[0m\u001b[0;34m.\u001b[0m\u001b[0mjoin\u001b[0m\u001b[0;34m(\u001b[0m\u001b[0mnotebookpath\u001b[0m\u001b[0;34m,\u001b[0m \u001b[0mfile_name\u001b[0m\u001b[0;34m)\u001b[0m\u001b[0;34m)\u001b[0m\u001b[0;34m:\u001b[0m\u001b[0;34m\u001b[0m\u001b[0;34m\u001b[0m\u001b[0m\n\u001b[0;32m---> 22\u001b[0;31m         \u001b[0;32mraise\u001b[0m \u001b[0mValueError\u001b[0m\u001b[0;34m(\u001b[0m\u001b[0;34mf\"file '{file_name}' not found in path '{notebookpath}'.\"\u001b[0m\u001b[0;34m)\u001b[0m\u001b[0;34m\u001b[0m\u001b[0;34m\u001b[0m\u001b[0m\n\u001b[0m\u001b[1;32m     23\u001b[0m \u001b[0;34m\u001b[0m\u001b[0m\n\u001b[1;32m     24\u001b[0m     \u001b[0;31m# Installing all the recommended packages.\u001b[0m\u001b[0;34m\u001b[0m\u001b[0;34m\u001b[0m\u001b[0m\n",
            "\u001b[0;31mValueError\u001b[0m: file 'Pset_3.ipynb' not found in path '/content/drive/MyDrive/Colab Notebooks/'."
          ]
        }
      ]
    }
  ]
}